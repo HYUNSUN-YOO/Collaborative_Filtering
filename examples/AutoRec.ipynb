{
 "cells": [
  {
   "cell_type": "markdown",
   "id": "ab92610e",
   "metadata": {},
   "source": [
    "***"
   ]
  },
  {
   "cell_type": "markdown",
   "id": "1765146d",
   "metadata": {},
   "source": [
    "# AutoRec\n",
    "- 사용자의 아이템별 평점 또는 아이템의 사용자별 평점 벡터에 대하여 Auto Encoder 방식으로, input을 output으로 재현하는 방식으로 평점을 예측하는 기법\n",
    "\n",
    "\n",
    "### - Reference: [AutoRec: Autoencoders Meet Collaborative Filtering](https://users.cecs.anu.edu.au/~akmenon/papers/autorec/autorec-paper.pdf)\n",
    "\n",
    "### - Prediction:\n",
    "아이템 i에 대한 사용자들의 평점 벡터 $r^{(i)}$는 아래와 같이 예측\n",
    "<center> $r^{(i)}=f(W \\cdot g(Vr+\\mu)+b)$ </center>\n",
    "\n",
    "|expression|mean|\n",
    "|:---:|:---:|\n",
    "|$$r^{(i)} = (r_{1i}, ..., r_{ui})$$|아이템 i에 대한 사용자들의 평점 벡터|\n",
    "|$W$|디코더 레이어|\n",
    "|$V$|인코더 레이어|\n",
    "|$$h(\\cdot), g(\\cdot)$$|인코더, 디코더 레이어의 활성화 함수. sigmoid, relu 등이 사용될 수 있음|\n",
    "|$\\mu, b$|인코더, 디코더 레이어의 bias|\n",
    "\n",
    "### - Optimization:\n",
    "아래의 목적함수를 최소화 하는 파라미터를 추정함\n",
    "<center> $min_{\\theta}\\sum_{i\\in (1,...,n)}||r - r^{(i)}||^2_O + (\\lambda/2)(||W||^2_{Frod}+||V||^2_{Frod})$ </center>\n",
    "\n",
    "|expression|mean|\n",
    "|:---:|:---:|\n",
    "|$O$|관측된 평점에 대하여 계산한다는 의미|\n",
    "\n",
    "관측되지 않은 평점에 대하여, 논문에서는 평점을 3으로 대체하였음</br>\n",
    "네트워크의 backward 연산은 관측된 평점에 대해서만 수행함\n",
    "    \n",
    "### - Evaluation:\n",
    "|split|measure|\n",
    "|:---:|:---:|\n",
    "|holdout|RMSE|"
   ]
  },
  {
   "cell_type": "markdown",
   "id": "8c5761dc",
   "metadata": {},
   "source": [
    "***"
   ]
  },
  {
   "cell_type": "markdown",
   "id": "97840f4f",
   "metadata": {},
   "source": [
    "## Import library"
   ]
  },
  {
   "cell_type": "code",
   "execution_count": 1,
   "id": "1dfd4aca",
   "metadata": {},
   "outputs": [],
   "source": [
    "import os\n",
    "import sys\n",
    "sys.path.append(os.path.dirname(os.path.abspath(os.getcwd())))\n",
    "\n",
    "from Generator.MatrixGenerator import MatrixGenerator\n",
    "from Models.AutoRec import AutoRec\n",
    "\n",
    "import pandas as pd\n",
    "import numpy as np\n",
    "import random\n",
    "from sklearn.model_selection import train_test_split\n",
    "from torch.utils.data import DataLoader\n",
    "import matplotlib.pyplot as plt"
   ]
  },
  {
   "cell_type": "markdown",
   "id": "ec79fcea",
   "metadata": {},
   "source": [
    "***"
   ]
  },
  {
   "cell_type": "markdown",
   "id": "20613259",
   "metadata": {},
   "source": [
    "## 1) Data processing"
   ]
  },
  {
   "cell_type": "markdown",
   "id": "e963cbd5",
   "metadata": {},
   "source": [
    "### load data"
   ]
  },
  {
   "cell_type": "code",
   "execution_count": 2,
   "id": "dc80419f",
   "metadata": {},
   "outputs": [
    {
     "data": {
      "text/html": [
       "<div>\n",
       "<style scoped>\n",
       "    .dataframe tbody tr th:only-of-type {\n",
       "        vertical-align: middle;\n",
       "    }\n",
       "\n",
       "    .dataframe tbody tr th {\n",
       "        vertical-align: top;\n",
       "    }\n",
       "\n",
       "    .dataframe thead th {\n",
       "        text-align: right;\n",
       "    }\n",
       "</style>\n",
       "<table border=\"1\" class=\"dataframe\">\n",
       "  <thead>\n",
       "    <tr style=\"text-align: right;\">\n",
       "      <th></th>\n",
       "      <th>user_id</th>\n",
       "      <th>item_id</th>\n",
       "      <th>rating</th>\n",
       "    </tr>\n",
       "  </thead>\n",
       "  <tbody>\n",
       "    <tr>\n",
       "      <th>0</th>\n",
       "      <td>1</td>\n",
       "      <td>1</td>\n",
       "      <td>4.0</td>\n",
       "    </tr>\n",
       "    <tr>\n",
       "      <th>1</th>\n",
       "      <td>1</td>\n",
       "      <td>3</td>\n",
       "      <td>4.0</td>\n",
       "    </tr>\n",
       "    <tr>\n",
       "      <th>2</th>\n",
       "      <td>1</td>\n",
       "      <td>6</td>\n",
       "      <td>4.0</td>\n",
       "    </tr>\n",
       "    <tr>\n",
       "      <th>3</th>\n",
       "      <td>1</td>\n",
       "      <td>47</td>\n",
       "      <td>5.0</td>\n",
       "    </tr>\n",
       "    <tr>\n",
       "      <th>4</th>\n",
       "      <td>1</td>\n",
       "      <td>50</td>\n",
       "      <td>5.0</td>\n",
       "    </tr>\n",
       "    <tr>\n",
       "      <th>...</th>\n",
       "      <td>...</td>\n",
       "      <td>...</td>\n",
       "      <td>...</td>\n",
       "    </tr>\n",
       "    <tr>\n",
       "      <th>100831</th>\n",
       "      <td>610</td>\n",
       "      <td>166534</td>\n",
       "      <td>4.0</td>\n",
       "    </tr>\n",
       "    <tr>\n",
       "      <th>100832</th>\n",
       "      <td>610</td>\n",
       "      <td>168248</td>\n",
       "      <td>5.0</td>\n",
       "    </tr>\n",
       "    <tr>\n",
       "      <th>100833</th>\n",
       "      <td>610</td>\n",
       "      <td>168250</td>\n",
       "      <td>5.0</td>\n",
       "    </tr>\n",
       "    <tr>\n",
       "      <th>100834</th>\n",
       "      <td>610</td>\n",
       "      <td>168252</td>\n",
       "      <td>5.0</td>\n",
       "    </tr>\n",
       "    <tr>\n",
       "      <th>100835</th>\n",
       "      <td>610</td>\n",
       "      <td>170875</td>\n",
       "      <td>3.0</td>\n",
       "    </tr>\n",
       "  </tbody>\n",
       "</table>\n",
       "<p>100836 rows × 3 columns</p>\n",
       "</div>"
      ],
      "text/plain": [
       "        user_id  item_id  rating\n",
       "0             1        1     4.0\n",
       "1             1        3     4.0\n",
       "2             1        6     4.0\n",
       "3             1       47     5.0\n",
       "4             1       50     5.0\n",
       "...         ...      ...     ...\n",
       "100831      610   166534     4.0\n",
       "100832      610   168248     5.0\n",
       "100833      610   168250     5.0\n",
       "100834      610   168252     5.0\n",
       "100835      610   170875     3.0\n",
       "\n",
       "[100836 rows x 3 columns]"
      ]
     },
     "execution_count": 2,
     "metadata": {},
     "output_type": "execute_result"
    }
   ],
   "source": [
    "ratings = pd.read_csv('../data/movie_lens/ratings.csv',\n",
    "                      names=['user_id', 'item_id', 'rating', '_'],\n",
    "                      skiprows=1).drop(columns=['_'])\n",
    "ratings"
   ]
  },
  {
   "cell_type": "markdown",
   "id": "f7049bb3",
   "metadata": {},
   "source": [
    "### convert id to index"
   ]
  },
  {
   "cell_type": "code",
   "execution_count": 3,
   "id": "ec44e5e6",
   "metadata": {},
   "outputs": [
    {
     "data": {
      "text/html": [
       "<div>\n",
       "<style scoped>\n",
       "    .dataframe tbody tr th:only-of-type {\n",
       "        vertical-align: middle;\n",
       "    }\n",
       "\n",
       "    .dataframe tbody tr th {\n",
       "        vertical-align: top;\n",
       "    }\n",
       "\n",
       "    .dataframe thead th {\n",
       "        text-align: right;\n",
       "    }\n",
       "</style>\n",
       "<table border=\"1\" class=\"dataframe\">\n",
       "  <thead>\n",
       "    <tr style=\"text-align: right;\">\n",
       "      <th></th>\n",
       "      <th>user_id</th>\n",
       "      <th>item_id</th>\n",
       "      <th>rating</th>\n",
       "    </tr>\n",
       "  </thead>\n",
       "  <tbody>\n",
       "    <tr>\n",
       "      <th>0</th>\n",
       "      <td>0</td>\n",
       "      <td>0</td>\n",
       "      <td>4.0</td>\n",
       "    </tr>\n",
       "    <tr>\n",
       "      <th>1</th>\n",
       "      <td>0</td>\n",
       "      <td>1</td>\n",
       "      <td>4.0</td>\n",
       "    </tr>\n",
       "    <tr>\n",
       "      <th>2</th>\n",
       "      <td>0</td>\n",
       "      <td>2</td>\n",
       "      <td>4.0</td>\n",
       "    </tr>\n",
       "    <tr>\n",
       "      <th>3</th>\n",
       "      <td>0</td>\n",
       "      <td>3</td>\n",
       "      <td>5.0</td>\n",
       "    </tr>\n",
       "    <tr>\n",
       "      <th>4</th>\n",
       "      <td>0</td>\n",
       "      <td>4</td>\n",
       "      <td>5.0</td>\n",
       "    </tr>\n",
       "    <tr>\n",
       "      <th>...</th>\n",
       "      <td>...</td>\n",
       "      <td>...</td>\n",
       "      <td>...</td>\n",
       "    </tr>\n",
       "    <tr>\n",
       "      <th>100831</th>\n",
       "      <td>609</td>\n",
       "      <td>3120</td>\n",
       "      <td>4.0</td>\n",
       "    </tr>\n",
       "    <tr>\n",
       "      <th>100832</th>\n",
       "      <td>609</td>\n",
       "      <td>2035</td>\n",
       "      <td>5.0</td>\n",
       "    </tr>\n",
       "    <tr>\n",
       "      <th>100833</th>\n",
       "      <td>609</td>\n",
       "      <td>3121</td>\n",
       "      <td>5.0</td>\n",
       "    </tr>\n",
       "    <tr>\n",
       "      <th>100834</th>\n",
       "      <td>609</td>\n",
       "      <td>1392</td>\n",
       "      <td>5.0</td>\n",
       "    </tr>\n",
       "    <tr>\n",
       "      <th>100835</th>\n",
       "      <td>609</td>\n",
       "      <td>2873</td>\n",
       "      <td>3.0</td>\n",
       "    </tr>\n",
       "  </tbody>\n",
       "</table>\n",
       "<p>100836 rows × 3 columns</p>\n",
       "</div>"
      ],
      "text/plain": [
       "        user_id  item_id  rating\n",
       "0             0        0     4.0\n",
       "1             0        1     4.0\n",
       "2             0        2     4.0\n",
       "3             0        3     5.0\n",
       "4             0        4     5.0\n",
       "...         ...      ...     ...\n",
       "100831      609     3120     4.0\n",
       "100832      609     2035     5.0\n",
       "100833      609     3121     5.0\n",
       "100834      609     1392     5.0\n",
       "100835      609     2873     3.0\n",
       "\n",
       "[100836 rows x 3 columns]"
      ]
     },
     "execution_count": 3,
     "metadata": {},
     "output_type": "execute_result"
    }
   ],
   "source": [
    "user_ids = ratings['user_id'].unique().tolist()\n",
    "item_ids = ratings['item_id'].unique().tolist()\n",
    "\n",
    "num_user = len(user_ids)\n",
    "num_item = len(item_ids)\n",
    "\n",
    "id_to_index_user = {user_ids[i] :i for i in range(num_user)}\n",
    "id_to_index_item = {item_ids[i] :i for i in range(num_item)}\n",
    "\n",
    "ratings['user_id'] = ratings['user_id'].apply(lambda x: id_to_index_user[x])\n",
    "ratings['item_id'] = ratings['item_id'].apply(lambda x: id_to_index_item[x])\n",
    "\n",
    "ratings"
   ]
  },
  {
   "cell_type": "markdown",
   "id": "5b1813f7",
   "metadata": {},
   "source": [
    "### split data"
   ]
  },
  {
   "cell_type": "code",
   "execution_count": 4,
   "id": "47400f34",
   "metadata": {},
   "outputs": [
    {
     "name": "stdout",
     "output_type": "stream",
     "text": [
      "# of observation(train/val/test): 70585, 10083, 20168\n"
     ]
    }
   ],
   "source": [
    "val_ratio = 0.1\n",
    "test_ratio = 0.2\n",
    "seed = 1234\n",
    "\n",
    "train, others = train_test_split(ratings,\n",
    "                                 test_size=val_ratio+test_ratio,\n",
    "                                 shuffle=True,\n",
    "                                 random_state=seed)\n",
    "\n",
    "validation, test = train_test_split(others,\n",
    "                                    test_size=test_ratio/(val_ratio+test_ratio),\n",
    "                                    shuffle=True,\n",
    "                                    random_state=seed)\n",
    "\n",
    "print(f\"# of observation(train/val/test): {len(train)}, {len(validation)}, {len(test)}\")"
   ]
  },
  {
   "cell_type": "markdown",
   "id": "cda7929f",
   "metadata": {},
   "source": [
    "### set config & get dataset from generator"
   ]
  },
  {
   "cell_type": "code",
   "execution_count": 5,
   "id": "14d80c4e",
   "metadata": {},
   "outputs": [],
   "source": [
    "class DatasetConfig:\n",
    "    num_negative = 0\n",
    "    batch = 128\n",
    "\n",
    "dataset_config = DatasetConfig()"
   ]
  },
  {
   "cell_type": "code",
   "execution_count": 7,
   "id": "55d81191",
   "metadata": {},
   "outputs": [],
   "source": [
    "dataset = MatrixGenerator(train_data=train,\n",
    "                          n_user=num_user,\n",
    "                          n_item=num_item,\n",
    "                          config=dataset_config)"
   ]
  },
  {
   "cell_type": "markdown",
   "id": "b19220a8",
   "metadata": {},
   "source": [
    "### see example data for a batch"
   ]
  },
  {
   "cell_type": "code",
   "execution_count": 8,
   "id": "815bb8a5",
   "metadata": {},
   "outputs": [],
   "source": [
    "train_loader = DataLoader(dataset, batch_size=2)\n",
    "_, data1, data2 = next(iter(train_loader))"
   ]
  },
  {
   "cell_type": "markdown",
   "id": "7aa5467e",
   "metadata": {},
   "source": [
    "(1) [ [$rating_{u,1}$, ..., $rating_{u, m}$] X batch_size]"
   ]
  },
  {
   "cell_type": "code",
   "execution_count": 9,
   "id": "dfc5ed08",
   "metadata": {},
   "outputs": [
    {
     "data": {
      "text/plain": [
       "tensor([[0., 4., 4.,  ..., 0., 0., 0.],\n",
       "        [0., 0., 0.,  ..., 0., 0., 0.]])"
      ]
     },
     "execution_count": 9,
     "metadata": {},
     "output_type": "execute_result"
    }
   ],
   "source": [
    "data1"
   ]
  },
  {
   "cell_type": "markdown",
   "id": "fafbef3e",
   "metadata": {},
   "source": [
    "(2) [ [$implicit_{u,1}$, ..., $implicit_{u, m}$] X batch_size]"
   ]
  },
  {
   "cell_type": "code",
   "execution_count": 10,
   "id": "c5c9fefb",
   "metadata": {},
   "outputs": [
    {
     "data": {
      "text/plain": [
       "tensor([[0., 1., 1.,  ..., 0., 0., 0.],\n",
       "        [0., 0., 0.,  ..., 0., 0., 0.]])"
      ]
     },
     "execution_count": 10,
     "metadata": {},
     "output_type": "execute_result"
    }
   ],
   "source": [
    "data2"
   ]
  },
  {
   "cell_type": "markdown",
   "id": "55aeb0b2",
   "metadata": {},
   "source": [
    "note. m: # of item"
   ]
  },
  {
   "cell_type": "markdown",
   "id": "96fbcae2",
   "metadata": {},
   "source": [
    "***"
   ]
  },
  {
   "cell_type": "markdown",
   "id": "bd1086a3",
   "metadata": {},
   "source": [
    "## 2) Modeling"
   ]
  },
  {
   "cell_type": "markdown",
   "id": "89bc4e45",
   "metadata": {},
   "source": [
    "### set config & get model"
   ]
  },
  {
   "cell_type": "code",
   "execution_count": 11,
   "id": "e2961ebb",
   "metadata": {},
   "outputs": [],
   "source": [
    "class OptimizerConfig:\n",
    "    method = 'Adam'\n",
    "    regulation = 1e-5\n",
    "    learning_rate = 0.01\n",
    "    learning_decay = 0.95\n",
    "\n",
    "class ModelConfig:\n",
    "    epochs = 30\n",
    "    print_step = 5\n",
    "\n",
    "class AutoRecConfig:\n",
    "    evaluation = 'MSE'\n",
    "    dim_latent = 300\n",
    "    fill_na_as = 3.0\n",
    "\n",
    "optimizer_config = OptimizerConfig()\n",
    "autorec_config = AutoRecConfig()\n",
    "model_config = ModelConfig()"
   ]
  },
  {
   "cell_type": "code",
   "execution_count": 12,
   "id": "d26bd417",
   "metadata": {},
   "outputs": [
    {
     "name": "stdout",
     "output_type": "stream",
     "text": [
      "[BaseModel] method = Adam\n",
      "[BaseModel] regulation = 1e-05\n",
      "[BaseModel] learning_rate = 0.01\n",
      "[BaseModel] learning_rate_decay = 0.95\n"
     ]
    }
   ],
   "source": [
    "inputs = {\"n_user\":num_user,\n",
    "          \"n_item\":num_item}\n",
    "\n",
    "model = AutoRec(inputs, model_config, optimizer_config, autorec_config)"
   ]
  },
  {
   "cell_type": "markdown",
   "id": "d7bdc8ad",
   "metadata": {},
   "source": [
    "### fit model & see loss and performance"
   ]
  },
  {
   "cell_type": "code",
   "execution_count": 13,
   "id": "eb1e5aca",
   "metadata": {},
   "outputs": [
    {
     "name": "stdout",
     "output_type": "stream",
     "text": [
      "\n",
      "[AutoRec]============================================== Train ===============================================\n",
      "[AutoRec]           (train: MSE)        (validation: MSE)   \n",
      "          (epoch 5) 0.8340              1.4756              \n",
      "         (epoch 10) 0.7744              1.4387              \n",
      "         (epoch 15) 0.7653              1.4342              \n",
      "         (epoch 20) 0.7599              1.4378              \n",
      "         (epoch 25) 0.7563              1.4347              \n",
      "         (epoch 30) 0.7539              1.4349              \n"
     ]
    }
   ],
   "source": [
    "train_loader = DataLoader(dataset, batch_size=dataset_config.batch)\n",
    "model.fit(train_loader=train_loader, val_data=validation)"
   ]
  },
  {
   "cell_type": "markdown",
   "id": "7d04d7f5",
   "metadata": {},
   "source": [
    "***"
   ]
  },
  {
   "cell_type": "markdown",
   "id": "81c58dc5",
   "metadata": {},
   "source": [
    "## 3) Evaluation"
   ]
  },
  {
   "cell_type": "markdown",
   "id": "a58b50c2",
   "metadata": {},
   "source": [
    "### evaluate testset"
   ]
  },
  {
   "cell_type": "code",
   "execution_count": 14,
   "id": "bef3f3d2",
   "metadata": {},
   "outputs": [
    {
     "name": "stdout",
     "output_type": "stream",
     "text": [
      "\n",
      "[AutoRec]============================================= Evaluate =============================================\n",
      "[AutoRec] (test: MSE) = 1.4709\n"
     ]
    }
   ],
   "source": [
    "model.test(train_loader=train_loader, test_data=test)"
   ]
  },
  {
   "cell_type": "markdown",
   "id": "7d640a9d",
   "metadata": {},
   "source": [
    "### see plot for loss and performance"
   ]
  },
  {
   "cell_type": "code",
   "execution_count": 15,
   "id": "636edd0a",
   "metadata": {},
   "outputs": [
    {
     "data": {
      "image/png": "[encoded data removed]",
      "text/plain": [
       "<Figure size 864x288 with 2 Axes>"
      ]
     },
     "metadata": {
      "needs_background": "light"
     },
     "output_type": "display_data"
    }
   ],
   "source": [
    "figure = model.draw_plot()\n",
    "plt.show()"
   ]
  }
 ],
 "metadata": {
  "kernelspec": {
   "display_name": "reco_sys",
   "language": "python",
   "name": "reco_sys"
  },
  "language_info": {
   "codemirror_mode": {
    "name": "ipython",
    "version": 3
   },
   "file_extension": ".py",
   "mimetype": "text/x-python",
   "name": "python",
   "nbconvert_exporter": "python",
   "pygments_lexer": "ipython3",
   "version": "3.7.13"
  }
 },
 "nbformat": 4,
 "nbformat_minor": 5
}
