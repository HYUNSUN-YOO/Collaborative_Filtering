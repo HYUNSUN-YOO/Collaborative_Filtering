{
 "cells": [
  {
   "cell_type": "markdown",
   "id": "ae01e9c1",
   "metadata": {},
   "source": [
    "***"
   ]
  },
  {
   "cell_type": "markdown",
   "id": "8fb2a2a3",
   "metadata": {},
   "source": [
    "# BPR\n",
    "- 관측된 평점과 관측되지 않은 평점간의 선호도 대소관계를 이용하여 선호도 순위를 예측하는 기법\n",
    "\n",
    "### - Reference: [BPR: Bayesian Personalized Ranking from Implicit Feedback](https://arxiv.org/ftp/arxiv/papers/1205/1205.2618.pdf)\n",
    "\n",
    "### - Prediction:\n",
    "사용자 u가 아이템 i를 j보다 선호할 예측 확률 $P(i>_uj|\\Theta)$을 아래와 같이 정의\n",
    "<center> $P(i>_uj|\\Theta) = \\sigma(\\hat{x_{uij}}(\\Theta))$ </center>\n",
    "\n",
    "|expression|mean|\n",
    "|:---:|:---:|\n",
    "|$\\sigma(x)$|$$(1+e^{-x})^{-1}$$|\n",
    "| $ \\hat{x_{uij}}(\\Theta)$|$$\\hat{x_{ui}}(\\Theta)-\\hat{x_{uj}}(\\Theta)$$|\n",
    "| $ \\hat{x_{ui}}(\\Theta)$|$\\Theta$가 주어졌을 때 사용자 $u$가 아이템 $i$를 선호하는 정도의 예측값|\n",
    "\n",
    "### - Optimization:\n",
    "사용자 u의 평점이 관측된 아이템 i와 관측되지 않은 아이템 j에 대하여, 아래와 같은 목적함수를 최대화하는 maxima를 찾음으로써 파라미터를 추정함\n",
    "<center>$max_{(u,i,j)\\in D_S} ln\\sigma(\\hat{x_{uij}})-\\lambda_\\Theta||\\Theta||^2$</center>\n",
    "목적함수는 사전확률 $P(\\Theta)$와 우도확률 $P(\\Theta|>_u)$ 을 이용하여 사후확률$P(>_u|\\Theta)$ 을 추정한다는 베이즈정리로 부터 유도됨\n",
    "\n",
    "|expression|mean|\n",
    "|:---:|:---:|\n",
    "|$D_S$|사용자 $u$와 평점이 관측된 아이템 $i$, 관측되지 않은 아이템 $j$의 집합<br />관측된 하나의$i$에 대하여 k개의 $j$를 임의추출하여 $(u, i, j)$을 만듬, $i$는 복원추출될 수 있음|\n",
    "| $\\Theta$|$x_{ui}$에 대한 분해 행렬 요소, $P_{n*k}, Q_{m*k}$로 분해할 수 있음($n$:사용자 수, $m$:아이템 수)|\n",
    "|$P(\\Theta)$ ~ $N(0, \\sum_\\Theta)$|사전확률은 정규분포를 따른다고 가정|\n",
    "|$\\lambda_\\Theta$|$P, Q$에 대한 규제항 파라미터를 대각원소로 같는 공분산 |\n",
    "\n",
    "### - Evaluation:\n",
    "관측된 testset의 $x_{ui}$가  관측되지 않은 $x_{uj}$보다 더 큰 비율이 어느정도 되는지 측정함\n",
    "\n",
    "</br>\n",
    "\n",
    "<center>$AUC = |U|^{-1}\\sum_{u}|E(u)|^{-1}\\sum_{(i,j)\\in E(u)} \\delta(p_uq_i^T > p_uq_j^T)$</center>\n",
    "\n",
    "|split|measure|\n",
    "|:---:|:---:|\n",
    "|leave-one-out|AUC|"
   ]
  },
  {
   "cell_type": "markdown",
   "id": "55839f0d",
   "metadata": {},
   "source": [
    "***"
   ]
  },
  {
   "cell_type": "markdown",
   "id": "34aadf82",
   "metadata": {},
   "source": [
    "## 0) Import library"
   ]
  },
  {
   "cell_type": "code",
   "execution_count": 1,
   "id": "5b9717b8",
   "metadata": {},
   "outputs": [],
   "source": [
    "import os\n",
    "import sys\n",
    "sys.path.append(os.path.dirname(os.path.abspath(os.getcwd())))\n",
    "\n",
    "from Generator.PairwiseGenerator import PairwiseGenerator\n",
    "from Models.BPR import BPR\n",
    "\n",
    "import pandas as pd\n",
    "import numpy as np\n",
    "import random\n",
    "from sklearn.model_selection import train_test_split\n",
    "from torch.utils.data import DataLoader\n",
    "import matplotlib.pyplot as plt"
   ]
  },
  {
   "cell_type": "markdown",
   "id": "fcae3ecf",
   "metadata": {},
   "source": [
    "***"
   ]
  },
  {
   "cell_type": "markdown",
   "id": "92d09bc3",
   "metadata": {},
   "source": [
    "## 1) Data processing"
   ]
  },
  {
   "cell_type": "markdown",
   "id": "82e9bc2c",
   "metadata": {},
   "source": [
    "### load data"
   ]
  },
  {
   "cell_type": "code",
   "execution_count": 2,
   "id": "1ca7251c",
   "metadata": {},
   "outputs": [
    {
     "data": {
      "text/html": [
       "<div>\n",
       "<style scoped>\n",
       "    .dataframe tbody tr th:only-of-type {\n",
       "        vertical-align: middle;\n",
       "    }\n",
       "\n",
       "    .dataframe tbody tr th {\n",
       "        vertical-align: top;\n",
       "    }\n",
       "\n",
       "    .dataframe thead th {\n",
       "        text-align: right;\n",
       "    }\n",
       "</style>\n",
       "<table border=\"1\" class=\"dataframe\">\n",
       "  <thead>\n",
       "    <tr style=\"text-align: right;\">\n",
       "      <th></th>\n",
       "      <th>user_id</th>\n",
       "      <th>item_id</th>\n",
       "      <th>rating</th>\n",
       "    </tr>\n",
       "  </thead>\n",
       "  <tbody>\n",
       "    <tr>\n",
       "      <th>0</th>\n",
       "      <td>1</td>\n",
       "      <td>1</td>\n",
       "      <td>4.0</td>\n",
       "    </tr>\n",
       "    <tr>\n",
       "      <th>1</th>\n",
       "      <td>1</td>\n",
       "      <td>3</td>\n",
       "      <td>4.0</td>\n",
       "    </tr>\n",
       "    <tr>\n",
       "      <th>2</th>\n",
       "      <td>1</td>\n",
       "      <td>6</td>\n",
       "      <td>4.0</td>\n",
       "    </tr>\n",
       "    <tr>\n",
       "      <th>3</th>\n",
       "      <td>1</td>\n",
       "      <td>47</td>\n",
       "      <td>5.0</td>\n",
       "    </tr>\n",
       "    <tr>\n",
       "      <th>4</th>\n",
       "      <td>1</td>\n",
       "      <td>50</td>\n",
       "      <td>5.0</td>\n",
       "    </tr>\n",
       "    <tr>\n",
       "      <th>...</th>\n",
       "      <td>...</td>\n",
       "      <td>...</td>\n",
       "      <td>...</td>\n",
       "    </tr>\n",
       "    <tr>\n",
       "      <th>100831</th>\n",
       "      <td>610</td>\n",
       "      <td>166534</td>\n",
       "      <td>4.0</td>\n",
       "    </tr>\n",
       "    <tr>\n",
       "      <th>100832</th>\n",
       "      <td>610</td>\n",
       "      <td>168248</td>\n",
       "      <td>5.0</td>\n",
       "    </tr>\n",
       "    <tr>\n",
       "      <th>100833</th>\n",
       "      <td>610</td>\n",
       "      <td>168250</td>\n",
       "      <td>5.0</td>\n",
       "    </tr>\n",
       "    <tr>\n",
       "      <th>100834</th>\n",
       "      <td>610</td>\n",
       "      <td>168252</td>\n",
       "      <td>5.0</td>\n",
       "    </tr>\n",
       "    <tr>\n",
       "      <th>100835</th>\n",
       "      <td>610</td>\n",
       "      <td>170875</td>\n",
       "      <td>3.0</td>\n",
       "    </tr>\n",
       "  </tbody>\n",
       "</table>\n",
       "<p>100836 rows × 3 columns</p>\n",
       "</div>"
      ],
      "text/plain": [
       "        user_id  item_id  rating\n",
       "0             1        1     4.0\n",
       "1             1        3     4.0\n",
       "2             1        6     4.0\n",
       "3             1       47     5.0\n",
       "4             1       50     5.0\n",
       "...         ...      ...     ...\n",
       "100831      610   166534     4.0\n",
       "100832      610   168248     5.0\n",
       "100833      610   168250     5.0\n",
       "100834      610   168252     5.0\n",
       "100835      610   170875     3.0\n",
       "\n",
       "[100836 rows x 3 columns]"
      ]
     },
     "execution_count": 2,
     "metadata": {},
     "output_type": "execute_result"
    }
   ],
   "source": [
    "ratings = pd.read_csv('../data/movie_lens/ratings.csv',\n",
    "                      names=['user_id', 'item_id', 'rating', '_'],\n",
    "                      skiprows=1).drop(columns=['_'])\n",
    "ratings"
   ]
  },
  {
   "cell_type": "markdown",
   "id": "4e865c3d",
   "metadata": {},
   "source": [
    "### convert id to index"
   ]
  },
  {
   "cell_type": "code",
   "execution_count": 3,
   "id": "e5f7ece3",
   "metadata": {},
   "outputs": [
    {
     "data": {
      "text/html": [
       "<div>\n",
       "<style scoped>\n",
       "    .dataframe tbody tr th:only-of-type {\n",
       "        vertical-align: middle;\n",
       "    }\n",
       "\n",
       "    .dataframe tbody tr th {\n",
       "        vertical-align: top;\n",
       "    }\n",
       "\n",
       "    .dataframe thead th {\n",
       "        text-align: right;\n",
       "    }\n",
       "</style>\n",
       "<table border=\"1\" class=\"dataframe\">\n",
       "  <thead>\n",
       "    <tr style=\"text-align: right;\">\n",
       "      <th></th>\n",
       "      <th>user_id</th>\n",
       "      <th>item_id</th>\n",
       "      <th>rating</th>\n",
       "    </tr>\n",
       "  </thead>\n",
       "  <tbody>\n",
       "    <tr>\n",
       "      <th>0</th>\n",
       "      <td>0</td>\n",
       "      <td>0</td>\n",
       "      <td>4.0</td>\n",
       "    </tr>\n",
       "    <tr>\n",
       "      <th>1</th>\n",
       "      <td>0</td>\n",
       "      <td>1</td>\n",
       "      <td>4.0</td>\n",
       "    </tr>\n",
       "    <tr>\n",
       "      <th>2</th>\n",
       "      <td>0</td>\n",
       "      <td>2</td>\n",
       "      <td>4.0</td>\n",
       "    </tr>\n",
       "    <tr>\n",
       "      <th>3</th>\n",
       "      <td>0</td>\n",
       "      <td>3</td>\n",
       "      <td>5.0</td>\n",
       "    </tr>\n",
       "    <tr>\n",
       "      <th>4</th>\n",
       "      <td>0</td>\n",
       "      <td>4</td>\n",
       "      <td>5.0</td>\n",
       "    </tr>\n",
       "    <tr>\n",
       "      <th>...</th>\n",
       "      <td>...</td>\n",
       "      <td>...</td>\n",
       "      <td>...</td>\n",
       "    </tr>\n",
       "    <tr>\n",
       "      <th>100831</th>\n",
       "      <td>609</td>\n",
       "      <td>3120</td>\n",
       "      <td>4.0</td>\n",
       "    </tr>\n",
       "    <tr>\n",
       "      <th>100832</th>\n",
       "      <td>609</td>\n",
       "      <td>2035</td>\n",
       "      <td>5.0</td>\n",
       "    </tr>\n",
       "    <tr>\n",
       "      <th>100833</th>\n",
       "      <td>609</td>\n",
       "      <td>3121</td>\n",
       "      <td>5.0</td>\n",
       "    </tr>\n",
       "    <tr>\n",
       "      <th>100834</th>\n",
       "      <td>609</td>\n",
       "      <td>1392</td>\n",
       "      <td>5.0</td>\n",
       "    </tr>\n",
       "    <tr>\n",
       "      <th>100835</th>\n",
       "      <td>609</td>\n",
       "      <td>2873</td>\n",
       "      <td>3.0</td>\n",
       "    </tr>\n",
       "  </tbody>\n",
       "</table>\n",
       "<p>100836 rows × 3 columns</p>\n",
       "</div>"
      ],
      "text/plain": [
       "        user_id  item_id  rating\n",
       "0             0        0     4.0\n",
       "1             0        1     4.0\n",
       "2             0        2     4.0\n",
       "3             0        3     5.0\n",
       "4             0        4     5.0\n",
       "...         ...      ...     ...\n",
       "100831      609     3120     4.0\n",
       "100832      609     2035     5.0\n",
       "100833      609     3121     5.0\n",
       "100834      609     1392     5.0\n",
       "100835      609     2873     3.0\n",
       "\n",
       "[100836 rows x 3 columns]"
      ]
     },
     "execution_count": 3,
     "metadata": {},
     "output_type": "execute_result"
    }
   ],
   "source": [
    "user_ids = ratings['user_id'].unique().tolist()\n",
    "item_ids = ratings['item_id'].unique().tolist()\n",
    "\n",
    "num_user = len(user_ids)\n",
    "num_item = len(item_ids)\n",
    "\n",
    "id_to_index_user = {user_ids[i] :i for i in range(num_user)}\n",
    "id_to_index_item = {item_ids[i] :i for i in range(num_item)}\n",
    "\n",
    "ratings['user_id'] = ratings['user_id'].apply(lambda x: id_to_index_user[x])\n",
    "ratings['item_id'] = ratings['item_id'].apply(lambda x: id_to_index_item[x])\n",
    "\n",
    "ratings"
   ]
  },
  {
   "cell_type": "markdown",
   "id": "ae3d962a",
   "metadata": {},
   "source": [
    "### convert explicit feedback to implicit feedback"
   ]
  },
  {
   "cell_type": "code",
   "execution_count": 4,
   "id": "839f0786",
   "metadata": {},
   "outputs": [
    {
     "data": {
      "text/html": [
       "<div>\n",
       "<style scoped>\n",
       "    .dataframe tbody tr th:only-of-type {\n",
       "        vertical-align: middle;\n",
       "    }\n",
       "\n",
       "    .dataframe tbody tr th {\n",
       "        vertical-align: top;\n",
       "    }\n",
       "\n",
       "    .dataframe thead th {\n",
       "        text-align: right;\n",
       "    }\n",
       "</style>\n",
       "<table border=\"1\" class=\"dataframe\">\n",
       "  <thead>\n",
       "    <tr style=\"text-align: right;\">\n",
       "      <th></th>\n",
       "      <th>user_id</th>\n",
       "      <th>item_id</th>\n",
       "      <th>rating</th>\n",
       "    </tr>\n",
       "  </thead>\n",
       "  <tbody>\n",
       "    <tr>\n",
       "      <th>0</th>\n",
       "      <td>0</td>\n",
       "      <td>0</td>\n",
       "      <td>1</td>\n",
       "    </tr>\n",
       "    <tr>\n",
       "      <th>1</th>\n",
       "      <td>0</td>\n",
       "      <td>1</td>\n",
       "      <td>1</td>\n",
       "    </tr>\n",
       "    <tr>\n",
       "      <th>2</th>\n",
       "      <td>0</td>\n",
       "      <td>2</td>\n",
       "      <td>1</td>\n",
       "    </tr>\n",
       "    <tr>\n",
       "      <th>3</th>\n",
       "      <td>0</td>\n",
       "      <td>3</td>\n",
       "      <td>1</td>\n",
       "    </tr>\n",
       "    <tr>\n",
       "      <th>4</th>\n",
       "      <td>0</td>\n",
       "      <td>4</td>\n",
       "      <td>1</td>\n",
       "    </tr>\n",
       "    <tr>\n",
       "      <th>...</th>\n",
       "      <td>...</td>\n",
       "      <td>...</td>\n",
       "      <td>...</td>\n",
       "    </tr>\n",
       "    <tr>\n",
       "      <th>100831</th>\n",
       "      <td>609</td>\n",
       "      <td>3120</td>\n",
       "      <td>1</td>\n",
       "    </tr>\n",
       "    <tr>\n",
       "      <th>100832</th>\n",
       "      <td>609</td>\n",
       "      <td>2035</td>\n",
       "      <td>1</td>\n",
       "    </tr>\n",
       "    <tr>\n",
       "      <th>100833</th>\n",
       "      <td>609</td>\n",
       "      <td>3121</td>\n",
       "      <td>1</td>\n",
       "    </tr>\n",
       "    <tr>\n",
       "      <th>100834</th>\n",
       "      <td>609</td>\n",
       "      <td>1392</td>\n",
       "      <td>1</td>\n",
       "    </tr>\n",
       "    <tr>\n",
       "      <th>100835</th>\n",
       "      <td>609</td>\n",
       "      <td>2873</td>\n",
       "      <td>1</td>\n",
       "    </tr>\n",
       "  </tbody>\n",
       "</table>\n",
       "<p>100836 rows × 3 columns</p>\n",
       "</div>"
      ],
      "text/plain": [
       "        user_id  item_id  rating\n",
       "0             0        0       1\n",
       "1             0        1       1\n",
       "2             0        2       1\n",
       "3             0        3       1\n",
       "4             0        4       1\n",
       "...         ...      ...     ...\n",
       "100831      609     3120       1\n",
       "100832      609     2035       1\n",
       "100833      609     3121       1\n",
       "100834      609     1392       1\n",
       "100835      609     2873       1\n",
       "\n",
       "[100836 rows x 3 columns]"
      ]
     },
     "execution_count": 4,
     "metadata": {},
     "output_type": "execute_result"
    }
   ],
   "source": [
    "ratings['rating'] = 1\n",
    "ratings"
   ]
  },
  {
   "cell_type": "markdown",
   "id": "830803a0",
   "metadata": {},
   "source": [
    "### split data"
   ]
  },
  {
   "cell_type": "code",
   "execution_count": 5,
   "id": "d597637d",
   "metadata": {},
   "outputs": [
    {
     "name": "stdout",
     "output_type": "stream",
     "text": [
      "# of observation(train/val/test): 99616, 610, 610\n"
     ]
    }
   ],
   "source": [
    "leave_k = 1\n",
    "seed = 1234\n",
    "\n",
    "test = ratings.groupby('user_id').sample(leave_k, random_state=seed)\n",
    "train_ = ratings.loc[ratings.index.isin(test.index)==False]\n",
    "validation = train_.groupby('user_id').sample(leave_k, random_state=seed)\n",
    "train = train_.loc[train_.index.isin(validation.index) == False]\n",
    "\n",
    "print(f\"# of observation(train/val/test): {len(train)}, {len(validation)}, {len(test)}\")"
   ]
  },
  {
   "cell_type": "markdown",
   "id": "4935454b",
   "metadata": {},
   "source": [
    "### set config & get dataset from generator"
   ]
  },
  {
   "cell_type": "code",
   "execution_count": 6,
   "id": "3c21d3a4",
   "metadata": {},
   "outputs": [],
   "source": [
    "class DatasetConfig:\n",
    "    num_negative = 5\n",
    "    between_observed = False\n",
    "    batch = 128\n",
    "    \n",
    "dataset_config = DatasetConfig()"
   ]
  },
  {
   "cell_type": "code",
   "execution_count": 7,
   "id": "3decfa2c",
   "metadata": {},
   "outputs": [],
   "source": [
    "dataset = PairwiseGenerator(train_data=train,\n",
    "                            n_user=num_user,\n",
    "                            n_item=num_item,\n",
    "                            config=dataset_config)"
   ]
  },
  {
   "cell_type": "markdown",
   "id": "4ef16d84",
   "metadata": {},
   "source": [
    "### see example data for a batch"
   ]
  },
  {
   "cell_type": "code",
   "execution_count": 14,
   "id": "21fa98fa",
   "metadata": {},
   "outputs": [],
   "source": [
    "train_loader = DataLoader(dataset, batch_size=2)\n",
    "data1, data2, data3 = next(iter(train_loader))"
   ]
  },
  {
   "cell_type": "markdown",
   "id": "661a154d",
   "metadata": {},
   "source": [
    "(1) [user id X batch_size]"
   ]
  },
  {
   "cell_type": "code",
   "execution_count": 15,
   "id": "9e77283d",
   "metadata": {},
   "outputs": [
    {
     "data": {
      "text/plain": [
       "tensor([0, 0])"
      ]
     },
     "execution_count": 15,
     "metadata": {},
     "output_type": "execute_result"
    }
   ],
   "source": [
    "data1"
   ]
  },
  {
   "cell_type": "markdown",
   "id": "6aa55e3e",
   "metadata": {},
   "source": [
    "(2) [item id_pos X batch_size]"
   ]
  },
  {
   "cell_type": "code",
   "execution_count": 16,
   "id": "188217f4",
   "metadata": {},
   "outputs": [
    {
     "data": {
      "text/plain": [
       "tensor([0, 0])"
      ]
     },
     "execution_count": 16,
     "metadata": {},
     "output_type": "execute_result"
    }
   ],
   "source": [
    "data2"
   ]
  },
  {
   "cell_type": "markdown",
   "id": "d3d9b79e",
   "metadata": {},
   "source": [
    "(3) [item id_neg X batch_size]"
   ]
  },
  {
   "cell_type": "code",
   "execution_count": 17,
   "id": "d45158ef",
   "metadata": {},
   "outputs": [
    {
     "data": {
      "text/plain": [
       "tensor([2410, 2803])"
      ]
     },
     "execution_count": 17,
     "metadata": {},
     "output_type": "execute_result"
    }
   ],
   "source": [
    "data3"
   ]
  },
  {
   "cell_type": "markdown",
   "id": "f4417263",
   "metadata": {},
   "source": [
    "note. item_id_pos : positive item, item_id_neg : negative item"
   ]
  },
  {
   "cell_type": "markdown",
   "id": "f6175eb4",
   "metadata": {},
   "source": [
    "***"
   ]
  },
  {
   "cell_type": "markdown",
   "id": "8904589b",
   "metadata": {},
   "source": [
    "## 2) Modeling"
   ]
  },
  {
   "cell_type": "markdown",
   "id": "01615ac8",
   "metadata": {},
   "source": [
    "### set config & get model"
   ]
  },
  {
   "cell_type": "code",
   "execution_count": 9,
   "id": "ae5d7b3f",
   "metadata": {},
   "outputs": [],
   "source": [
    "class OptimizerConfig:\n",
    "    method = 'SGD'\n",
    "    regulation = 1e-5\n",
    "    learning_rate = 0.01\n",
    "    learning_decay = 0.95\n",
    "\n",
    "class ModelConfig:\n",
    "    epochs = 30\n",
    "    print_step = 5\n",
    "\n",
    "class BPRConfig:\n",
    "    evaluation = 'AUC'\n",
    "    dim_latent = 16\n",
    "\n",
    "optimizer_config = OptimizerConfig()\n",
    "bpr_config = BPRConfig()\n",
    "model_config = ModelConfig()"
   ]
  },
  {
   "cell_type": "code",
   "execution_count": 10,
   "id": "c0c1f17e",
   "metadata": {},
   "outputs": [
    {
     "name": "stdout",
     "output_type": "stream",
     "text": [
      "[BaseModel] method = SGD\n",
      "[BaseModel] regulation = 1e-05\n",
      "[BaseModel] learning_rate = 0.01\n",
      "[BaseModel] learning_rate_decay = 0.95\n"
     ]
    }
   ],
   "source": [
    "inputs = {\"n_user\":num_user,\n",
    "          \"n_item\":num_item}\n",
    "\n",
    "model = BPR(inputs, model_config, optimizer_config, bpr_config)"
   ]
  },
  {
   "cell_type": "markdown",
   "id": "5e7293be",
   "metadata": {},
   "source": [
    "### fit model & see loss and performance"
   ]
  },
  {
   "cell_type": "code",
   "execution_count": 11,
   "id": "7252c95b",
   "metadata": {
    "scrolled": true
   },
   "outputs": [
    {
     "name": "stdout",
     "output_type": "stream",
     "text": [
      "\n",
      "[BPR]============================================== Train ===============================================\n",
      "[BPR]               (train: BPRloss)    (validation: AUC)   \n",
      "          (epoch 5) 39.5342             0.8958              \n",
      "         (epoch 10) 27.3984             0.9112              \n",
      "         (epoch 15) 20.7468             0.9225              \n",
      "         (epoch 20) 17.3588             0.9279              \n",
      "         (epoch 25) 15.3706             0.9309              \n",
      "         (epoch 30) 14.1355             0.9327              \n"
     ]
    }
   ],
   "source": [
    "train_loader = DataLoader(dataset, batch_size=dataset_config.batch)\n",
    "model.fit(train_loader=train_loader, val_data=validation)"
   ]
  },
  {
   "cell_type": "markdown",
   "id": "76075dbf",
   "metadata": {},
   "source": [
    "***"
   ]
  },
  {
   "cell_type": "markdown",
   "id": "8c55b155",
   "metadata": {},
   "source": [
    "## 3) Evaluation"
   ]
  },
  {
   "cell_type": "markdown",
   "id": "92409531",
   "metadata": {},
   "source": [
    "### evaluate testset"
   ]
  },
  {
   "cell_type": "code",
   "execution_count": 12,
   "id": "a26b23a9",
   "metadata": {},
   "outputs": [
    {
     "name": "stdout",
     "output_type": "stream",
     "text": [
      "\n",
      "[BPR]============================================= Evaluate =============================================\n",
      "[BPR] (test: AUC) = 0.9238\n"
     ]
    }
   ],
   "source": [
    "model.test(train_loader=train_loader, test_data=test)"
   ]
  },
  {
   "cell_type": "markdown",
   "id": "840716c8",
   "metadata": {},
   "source": [
    "### see plot for loss and performance"
   ]
  },
  {
   "cell_type": "code",
   "execution_count": 13,
   "id": "01969ae4",
   "metadata": {},
   "outputs": [
    {
     "data": {
      "image/png": "[encoded data removed]",
      "text/plain": [
       "<Figure size 864x288 with 2 Axes>"
      ]
     },
     "metadata": {
      "needs_background": "light"
     },
     "output_type": "display_data"
    }
   ],
   "source": [
    "figure = model.draw_plot()\n",
    "plt.show()"
   ]
  }
 ],
 "metadata": {
  "kernelspec": {
   "display_name": "reco_sys",
   "language": "python",
   "name": "reco_sys"
  },
  "language_info": {
   "codemirror_mode": {
    "name": "ipython",
    "version": 3
   },
   "file_extension": ".py",
   "mimetype": "text/x-python",
   "name": "python",
   "nbconvert_exporter": "python",
   "pygments_lexer": "ipython3",
   "version": "3.7.13"
  }
 },
 "nbformat": 4,
 "nbformat_minor": 5
}
