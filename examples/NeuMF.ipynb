{
 "cells": [
  {
   "cell_type": "markdown",
   "id": "30623534",
   "metadata": {},
   "source": [
    "***"
   ]
  },
  {
   "cell_type": "markdown",
   "id": "b7e4976a",
   "metadata": {},
   "source": [
    "# NeuMF\n",
    " - GMF(사용자, 아이템에 대한 교호작용 가중치 합 모델)과 MLP(사용자, 아이템에 대한 교호작용의 DNN 모델)의 concatenate된 구조로 선호 순위를 예측하는 기법\n",
    " \n",
    "### - Reference: [Neural Collaborative Filtering](https://arxiv.org/pdf/1708.05031.pdf)\n",
    "\n",
    "### - Prediction:\n",
    "선호여부 $y_{ui}$에 대해서 아래와 같이 잠재 요인 행렬 P, Q와 h($\\cdot$)과 DNN 네트워크의 결합을 통해 예측\n",
    "<center> $\\hat{y_{ui}}=\\sigma(h^T[ \\phi_{GMF}^T, \\phi_{MLP}^T]^T)$ </center>\n",
    "\n",
    "|expression|mean|\n",
    "|:---:|:---:|\n",
    "|$\\phi_{GMF}$|$$p_u\\cdot q_i$$|\n",
    "|$\\phi_{MLP}$|$$a_L(W^T_L(a_{L-1}(...(a_2(W^T_2(p_u^T,q_u^T)^T+b_2)...))+b_L)$$|\n",
    "|$ y_{ui}$|사용자 $u$의 아이템 $i$에 대한 선호 여부|\n",
    "|$p_uq_i^T$|사용자 $u$와 아이템 $i$의 교호작용|\n",
    "|$ p_u$| 사용자의 잠재요인 행렬 $P_{n*k}$의 $u$번째 열벡터|\n",
    "|$q_i$|아이템의 잠재요인 행렬 $Q_{m*k}$의 $i$번째 열벡터|\n",
    "|$n$|사용자 수|\n",
    "|$m$|아이템 수|\n",
    "|$k$|잠재 요인 갯수|\n",
    "|$h$|선형 벡터|\n",
    "|$\\sigma(\\cdot)$|활성화 시그모이드 함수|\n",
    "|$W_n$|n번째 fully connected layer|\n",
    "|$a_n(\\cdot)$|n번째 활성화 함수|\n",
    "\n",
    "### - Optimization:\n",
    "관측된/ 관측되지않은(임의추출) 아이템에 대하여 binary cross entropy를 최소화 시키는 가중치를 추정함\n",
    "GMF와 MLP에 대하여 각각 training 후, 해당 가중치를 NeuCF 네트워크에 초기화시켜 최종 모델로 학습시킴\n",
    "    \n",
    "### - Evaluation:\n",
    "Hit Ratio : 관측되지 않은 아이템에 대하여 top-K 선호순위를 결정하고, 해당 순위 이내에 testset의 아이템이 존재하면 1, 그렇지 않으면 0을 할당하여 사용자들의 평균을 구함.\n",
    "\n",
    "|split|measure|\n",
    "|:---:|:---:|\n",
    "|leave-one-out|Hit Ratio|"
   ]
  },
  {
   "cell_type": "markdown",
   "id": "df45d2f0",
   "metadata": {},
   "source": [
    "***"
   ]
  },
  {
   "cell_type": "markdown",
   "id": "ac643433",
   "metadata": {},
   "source": [
    "## 0) Import library"
   ]
  },
  {
   "cell_type": "code",
   "execution_count": 1,
   "id": "5afab27f",
   "metadata": {},
   "outputs": [],
   "source": [
    "import os\n",
    "import sys\n",
    "sys.path.append(os.path.dirname(os.path.abspath(os.getcwd())))\n",
    "\n",
    "from Generator.PointwiseGenerator import PointwiseGenerator\n",
    "from Models.NeuMF import NeuMF\n",
    "\n",
    "import pandas as pd\n",
    "import numpy as np\n",
    "import random\n",
    "import torch\n",
    "from sklearn.model_selection import train_test_split\n",
    "from torch.utils.data import DataLoader\n",
    "import matplotlib.pyplot as plt"
   ]
  },
  {
   "cell_type": "markdown",
   "id": "1fb5eb4b",
   "metadata": {},
   "source": [
    "***"
   ]
  },
  {
   "cell_type": "markdown",
   "id": "1d48874b",
   "metadata": {},
   "source": [
    "## 1) Data processing"
   ]
  },
  {
   "cell_type": "markdown",
   "id": "de5c23bd",
   "metadata": {},
   "source": [
    "### load data"
   ]
  },
  {
   "cell_type": "code",
   "execution_count": 2,
   "id": "51fcb825",
   "metadata": {},
   "outputs": [
    {
     "data": {
      "text/html": [
       "<div>\n",
       "<style scoped>\n",
       "    .dataframe tbody tr th:only-of-type {\n",
       "        vertical-align: middle;\n",
       "    }\n",
       "\n",
       "    .dataframe tbody tr th {\n",
       "        vertical-align: top;\n",
       "    }\n",
       "\n",
       "    .dataframe thead th {\n",
       "        text-align: right;\n",
       "    }\n",
       "</style>\n",
       "<table border=\"1\" class=\"dataframe\">\n",
       "  <thead>\n",
       "    <tr style=\"text-align: right;\">\n",
       "      <th></th>\n",
       "      <th>user_id</th>\n",
       "      <th>item_id</th>\n",
       "      <th>rating</th>\n",
       "    </tr>\n",
       "  </thead>\n",
       "  <tbody>\n",
       "    <tr>\n",
       "      <th>0</th>\n",
       "      <td>1</td>\n",
       "      <td>1</td>\n",
       "      <td>4.0</td>\n",
       "    </tr>\n",
       "    <tr>\n",
       "      <th>1</th>\n",
       "      <td>1</td>\n",
       "      <td>3</td>\n",
       "      <td>4.0</td>\n",
       "    </tr>\n",
       "    <tr>\n",
       "      <th>2</th>\n",
       "      <td>1</td>\n",
       "      <td>6</td>\n",
       "      <td>4.0</td>\n",
       "    </tr>\n",
       "    <tr>\n",
       "      <th>3</th>\n",
       "      <td>1</td>\n",
       "      <td>47</td>\n",
       "      <td>5.0</td>\n",
       "    </tr>\n",
       "    <tr>\n",
       "      <th>4</th>\n",
       "      <td>1</td>\n",
       "      <td>50</td>\n",
       "      <td>5.0</td>\n",
       "    </tr>\n",
       "    <tr>\n",
       "      <th>...</th>\n",
       "      <td>...</td>\n",
       "      <td>...</td>\n",
       "      <td>...</td>\n",
       "    </tr>\n",
       "    <tr>\n",
       "      <th>100831</th>\n",
       "      <td>610</td>\n",
       "      <td>166534</td>\n",
       "      <td>4.0</td>\n",
       "    </tr>\n",
       "    <tr>\n",
       "      <th>100832</th>\n",
       "      <td>610</td>\n",
       "      <td>168248</td>\n",
       "      <td>5.0</td>\n",
       "    </tr>\n",
       "    <tr>\n",
       "      <th>100833</th>\n",
       "      <td>610</td>\n",
       "      <td>168250</td>\n",
       "      <td>5.0</td>\n",
       "    </tr>\n",
       "    <tr>\n",
       "      <th>100834</th>\n",
       "      <td>610</td>\n",
       "      <td>168252</td>\n",
       "      <td>5.0</td>\n",
       "    </tr>\n",
       "    <tr>\n",
       "      <th>100835</th>\n",
       "      <td>610</td>\n",
       "      <td>170875</td>\n",
       "      <td>3.0</td>\n",
       "    </tr>\n",
       "  </tbody>\n",
       "</table>\n",
       "<p>100836 rows × 3 columns</p>\n",
       "</div>"
      ],
      "text/plain": [
       "        user_id  item_id  rating\n",
       "0             1        1     4.0\n",
       "1             1        3     4.0\n",
       "2             1        6     4.0\n",
       "3             1       47     5.0\n",
       "4             1       50     5.0\n",
       "...         ...      ...     ...\n",
       "100831      610   166534     4.0\n",
       "100832      610   168248     5.0\n",
       "100833      610   168250     5.0\n",
       "100834      610   168252     5.0\n",
       "100835      610   170875     3.0\n",
       "\n",
       "[100836 rows x 3 columns]"
      ]
     },
     "execution_count": 2,
     "metadata": {},
     "output_type": "execute_result"
    }
   ],
   "source": [
    "ratings = pd.read_csv('../data/movie_lens/ratings.csv',\n",
    "                      names=['user_id', 'item_id', 'rating', '_'],\n",
    "                      skiprows=1).drop(columns=['_'])\n",
    "ratings"
   ]
  },
  {
   "cell_type": "markdown",
   "id": "aa2aeb5b",
   "metadata": {},
   "source": [
    "### convert id to index"
   ]
  },
  {
   "cell_type": "code",
   "execution_count": 3,
   "id": "d230488d",
   "metadata": {},
   "outputs": [
    {
     "data": {
      "text/html": [
       "<div>\n",
       "<style scoped>\n",
       "    .dataframe tbody tr th:only-of-type {\n",
       "        vertical-align: middle;\n",
       "    }\n",
       "\n",
       "    .dataframe tbody tr th {\n",
       "        vertical-align: top;\n",
       "    }\n",
       "\n",
       "    .dataframe thead th {\n",
       "        text-align: right;\n",
       "    }\n",
       "</style>\n",
       "<table border=\"1\" class=\"dataframe\">\n",
       "  <thead>\n",
       "    <tr style=\"text-align: right;\">\n",
       "      <th></th>\n",
       "      <th>user_id</th>\n",
       "      <th>item_id</th>\n",
       "      <th>rating</th>\n",
       "    </tr>\n",
       "  </thead>\n",
       "  <tbody>\n",
       "    <tr>\n",
       "      <th>0</th>\n",
       "      <td>0</td>\n",
       "      <td>0</td>\n",
       "      <td>4.0</td>\n",
       "    </tr>\n",
       "    <tr>\n",
       "      <th>1</th>\n",
       "      <td>0</td>\n",
       "      <td>1</td>\n",
       "      <td>4.0</td>\n",
       "    </tr>\n",
       "    <tr>\n",
       "      <th>2</th>\n",
       "      <td>0</td>\n",
       "      <td>2</td>\n",
       "      <td>4.0</td>\n",
       "    </tr>\n",
       "    <tr>\n",
       "      <th>3</th>\n",
       "      <td>0</td>\n",
       "      <td>3</td>\n",
       "      <td>5.0</td>\n",
       "    </tr>\n",
       "    <tr>\n",
       "      <th>4</th>\n",
       "      <td>0</td>\n",
       "      <td>4</td>\n",
       "      <td>5.0</td>\n",
       "    </tr>\n",
       "    <tr>\n",
       "      <th>...</th>\n",
       "      <td>...</td>\n",
       "      <td>...</td>\n",
       "      <td>...</td>\n",
       "    </tr>\n",
       "    <tr>\n",
       "      <th>100831</th>\n",
       "      <td>609</td>\n",
       "      <td>3120</td>\n",
       "      <td>4.0</td>\n",
       "    </tr>\n",
       "    <tr>\n",
       "      <th>100832</th>\n",
       "      <td>609</td>\n",
       "      <td>2035</td>\n",
       "      <td>5.0</td>\n",
       "    </tr>\n",
       "    <tr>\n",
       "      <th>100833</th>\n",
       "      <td>609</td>\n",
       "      <td>3121</td>\n",
       "      <td>5.0</td>\n",
       "    </tr>\n",
       "    <tr>\n",
       "      <th>100834</th>\n",
       "      <td>609</td>\n",
       "      <td>1392</td>\n",
       "      <td>5.0</td>\n",
       "    </tr>\n",
       "    <tr>\n",
       "      <th>100835</th>\n",
       "      <td>609</td>\n",
       "      <td>2873</td>\n",
       "      <td>3.0</td>\n",
       "    </tr>\n",
       "  </tbody>\n",
       "</table>\n",
       "<p>100836 rows × 3 columns</p>\n",
       "</div>"
      ],
      "text/plain": [
       "        user_id  item_id  rating\n",
       "0             0        0     4.0\n",
       "1             0        1     4.0\n",
       "2             0        2     4.0\n",
       "3             0        3     5.0\n",
       "4             0        4     5.0\n",
       "...         ...      ...     ...\n",
       "100831      609     3120     4.0\n",
       "100832      609     2035     5.0\n",
       "100833      609     3121     5.0\n",
       "100834      609     1392     5.0\n",
       "100835      609     2873     3.0\n",
       "\n",
       "[100836 rows x 3 columns]"
      ]
     },
     "execution_count": 3,
     "metadata": {},
     "output_type": "execute_result"
    }
   ],
   "source": [
    "user_ids = ratings['user_id'].unique().tolist()\n",
    "item_ids = ratings['item_id'].unique().tolist()\n",
    "\n",
    "num_user = len(user_ids)\n",
    "num_item = len(item_ids)\n",
    "\n",
    "id_to_index_user = {user_ids[i] :i for i in range(num_user)}\n",
    "id_to_index_item = {item_ids[i] :i for i in range(num_item)}\n",
    "\n",
    "ratings['user_id'] = ratings['user_id'].apply(lambda x: id_to_index_user[x])\n",
    "ratings['item_id'] = ratings['item_id'].apply(lambda x: id_to_index_item[x])\n",
    "\n",
    "ratings"
   ]
  },
  {
   "cell_type": "markdown",
   "id": "19da571e",
   "metadata": {},
   "source": [
    "### convert explicit feedback to implicit feedback"
   ]
  },
  {
   "cell_type": "code",
   "execution_count": 4,
   "id": "fd5a4687",
   "metadata": {},
   "outputs": [
    {
     "data": {
      "text/html": [
       "<div>\n",
       "<style scoped>\n",
       "    .dataframe tbody tr th:only-of-type {\n",
       "        vertical-align: middle;\n",
       "    }\n",
       "\n",
       "    .dataframe tbody tr th {\n",
       "        vertical-align: top;\n",
       "    }\n",
       "\n",
       "    .dataframe thead th {\n",
       "        text-align: right;\n",
       "    }\n",
       "</style>\n",
       "<table border=\"1\" class=\"dataframe\">\n",
       "  <thead>\n",
       "    <tr style=\"text-align: right;\">\n",
       "      <th></th>\n",
       "      <th>user_id</th>\n",
       "      <th>item_id</th>\n",
       "      <th>rating</th>\n",
       "    </tr>\n",
       "  </thead>\n",
       "  <tbody>\n",
       "    <tr>\n",
       "      <th>0</th>\n",
       "      <td>0</td>\n",
       "      <td>0</td>\n",
       "      <td>1</td>\n",
       "    </tr>\n",
       "    <tr>\n",
       "      <th>1</th>\n",
       "      <td>0</td>\n",
       "      <td>1</td>\n",
       "      <td>1</td>\n",
       "    </tr>\n",
       "    <tr>\n",
       "      <th>2</th>\n",
       "      <td>0</td>\n",
       "      <td>2</td>\n",
       "      <td>1</td>\n",
       "    </tr>\n",
       "    <tr>\n",
       "      <th>3</th>\n",
       "      <td>0</td>\n",
       "      <td>3</td>\n",
       "      <td>1</td>\n",
       "    </tr>\n",
       "    <tr>\n",
       "      <th>4</th>\n",
       "      <td>0</td>\n",
       "      <td>4</td>\n",
       "      <td>1</td>\n",
       "    </tr>\n",
       "    <tr>\n",
       "      <th>...</th>\n",
       "      <td>...</td>\n",
       "      <td>...</td>\n",
       "      <td>...</td>\n",
       "    </tr>\n",
       "    <tr>\n",
       "      <th>100831</th>\n",
       "      <td>609</td>\n",
       "      <td>3120</td>\n",
       "      <td>1</td>\n",
       "    </tr>\n",
       "    <tr>\n",
       "      <th>100832</th>\n",
       "      <td>609</td>\n",
       "      <td>2035</td>\n",
       "      <td>1</td>\n",
       "    </tr>\n",
       "    <tr>\n",
       "      <th>100833</th>\n",
       "      <td>609</td>\n",
       "      <td>3121</td>\n",
       "      <td>1</td>\n",
       "    </tr>\n",
       "    <tr>\n",
       "      <th>100834</th>\n",
       "      <td>609</td>\n",
       "      <td>1392</td>\n",
       "      <td>1</td>\n",
       "    </tr>\n",
       "    <tr>\n",
       "      <th>100835</th>\n",
       "      <td>609</td>\n",
       "      <td>2873</td>\n",
       "      <td>1</td>\n",
       "    </tr>\n",
       "  </tbody>\n",
       "</table>\n",
       "<p>100836 rows × 3 columns</p>\n",
       "</div>"
      ],
      "text/plain": [
       "        user_id  item_id  rating\n",
       "0             0        0       1\n",
       "1             0        1       1\n",
       "2             0        2       1\n",
       "3             0        3       1\n",
       "4             0        4       1\n",
       "...         ...      ...     ...\n",
       "100831      609     3120       1\n",
       "100832      609     2035       1\n",
       "100833      609     3121       1\n",
       "100834      609     1392       1\n",
       "100835      609     2873       1\n",
       "\n",
       "[100836 rows x 3 columns]"
      ]
     },
     "execution_count": 4,
     "metadata": {},
     "output_type": "execute_result"
    }
   ],
   "source": [
    "ratings['rating'] = 1\n",
    "ratings"
   ]
  },
  {
   "cell_type": "markdown",
   "id": "d7cd517e",
   "metadata": {},
   "source": [
    "### split data"
   ]
  },
  {
   "cell_type": "code",
   "execution_count": 6,
   "id": "1c795224",
   "metadata": {},
   "outputs": [
    {
     "name": "stdout",
     "output_type": "stream",
     "text": [
      "# of observation(train/val/test): 99616, 610, 610\n"
     ]
    }
   ],
   "source": [
    "leave_k = 1\n",
    "seed = 1234\n",
    "\n",
    "test = ratings.groupby('user_id').sample(leave_k, random_state=seed)\n",
    "train_ = ratings.loc[ratings.index.isin(test.index)==False]\n",
    "validation = train_.groupby('user_id').sample(leave_k, random_state=seed)\n",
    "train = train_.loc[train_.index.isin(validation.index) == False]\n",
    "\n",
    "print(f\"# of observation(train/val/test): {len(train)}, {len(validation)}, {len(test)}\")"
   ]
  },
  {
   "cell_type": "markdown",
   "id": "4f4f7654",
   "metadata": {},
   "source": [
    "### set config & get dataset from generator"
   ]
  },
  {
   "cell_type": "code",
   "execution_count": 10,
   "id": "320d7571",
   "metadata": {},
   "outputs": [],
   "source": [
    "class DatasetConfig:\n",
    "    num_negative = 5\n",
    "    between_negative = False\n",
    "    batch = 512\n",
    "\n",
    "dataset_config = DatasetConfig()"
   ]
  },
  {
   "cell_type": "code",
   "execution_count": 11,
   "id": "6edd4b20",
   "metadata": {},
   "outputs": [],
   "source": [
    "dataset = PointwiseGenerator(train_data=train,\n",
    "                             n_user=num_user,\n",
    "                             n_item=num_item,\n",
    "                             config=dataset_config)"
   ]
  },
  {
   "cell_type": "markdown",
   "id": "187df96a",
   "metadata": {},
   "source": [
    "### see example data for a batch"
   ]
  },
  {
   "cell_type": "code",
   "execution_count": 12,
   "id": "1a20a710",
   "metadata": {},
   "outputs": [],
   "source": [
    "train_loader = DataLoader(dataset, batch_size=2)\n",
    "data1, data2, data3, _ = next(iter(train_loader))"
   ]
  },
  {
   "cell_type": "markdown",
   "id": "cb7240cd",
   "metadata": {},
   "source": [
    "(1) [user id X batch_size]"
   ]
  },
  {
   "cell_type": "code",
   "execution_count": 13,
   "id": "72a500cd",
   "metadata": {},
   "outputs": [
    {
     "data": {
      "text/plain": [
       "tensor([0, 0])"
      ]
     },
     "execution_count": 13,
     "metadata": {},
     "output_type": "execute_result"
    }
   ],
   "source": [
    "data1"
   ]
  },
  {
   "cell_type": "markdown",
   "id": "4b6c24bb",
   "metadata": {},
   "source": [
    "(2) [item id X batch_size]"
   ]
  },
  {
   "cell_type": "code",
   "execution_count": 14,
   "id": "156a7e7b",
   "metadata": {},
   "outputs": [
    {
     "data": {
      "text/plain": [
       "tensor([   0, 9678])"
      ]
     },
     "execution_count": 14,
     "metadata": {},
     "output_type": "execute_result"
    }
   ],
   "source": [
    "data2"
   ]
  },
  {
   "cell_type": "markdown",
   "id": "f59fc805",
   "metadata": {},
   "source": [
    "(3) [ [rating] X batch_size]"
   ]
  },
  {
   "cell_type": "code",
   "execution_count": 15,
   "id": "e61de6b6",
   "metadata": {},
   "outputs": [
    {
     "data": {
      "text/plain": [
       "tensor([[1.],\n",
       "        [0.]])"
      ]
     },
     "execution_count": 15,
     "metadata": {},
     "output_type": "execute_result"
    }
   ],
   "source": [
    "data3"
   ]
  },
  {
   "cell_type": "markdown",
   "id": "4dc7de0e",
   "metadata": {},
   "source": [
    "***"
   ]
  },
  {
   "cell_type": "markdown",
   "id": "a2a396c3",
   "metadata": {},
   "source": [
    "## 2) Modeling"
   ]
  },
  {
   "cell_type": "markdown",
   "id": "e21d3128",
   "metadata": {},
   "source": [
    "### set config & get model"
   ]
  },
  {
   "cell_type": "code",
   "execution_count": 16,
   "id": "ea097665",
   "metadata": {},
   "outputs": [],
   "source": [
    "class OptimizerConfig:\n",
    "    method = 'Adam'\n",
    "    regulation = 1e-5\n",
    "    learning_rate = 0.01\n",
    "    learning_decay = 0.95\n",
    "\n",
    "class ModelConfig:\n",
    "    epochs = 30\n",
    "    print_step = 5\n",
    "    load_dir = ['../output/pretrained_gmf.pth',\n",
    "                '../output/pretrained_mlp.pth']\n",
    "\n",
    "class NeuMFConfig:\n",
    "    evaluation = 'HR'\n",
    "    dim_latent_gmf = 8\n",
    "    dim_latent_mlp = 16\n",
    "    alpha = 0.5\n",
    "    k = 10\n",
    "    sample = 100\n",
    "\n",
    "optimizer_config = OptimizerConfig()\n",
    "neumf_config = NeuMFConfig()\n",
    "model_config = ModelConfig()"
   ]
  },
  {
   "cell_type": "code",
   "execution_count": 17,
   "id": "a471bef8",
   "metadata": {},
   "outputs": [
    {
     "name": "stdout",
     "output_type": "stream",
     "text": [
      "[BaseModel] method = Adam\n",
      "[BaseModel] regulation = 1e-05\n",
      "[BaseModel] learning_rate = 0.01\n",
      "[BaseModel] learning_rate_decay = 0.95\n"
     ]
    }
   ],
   "source": [
    "inputs = {\"n_user\":num_user,\n",
    "          \"n_item\":num_item}\n",
    "\n",
    "model = NeuMF(inputs, model_config, optimizer_config, neumf_config)"
   ]
  },
  {
   "cell_type": "markdown",
   "id": "4573dd27",
   "metadata": {},
   "source": [
    "### load pre-trained weight"
   ]
  },
  {
   "cell_type": "code",
   "execution_count": 18,
   "id": "8034068b",
   "metadata": {},
   "outputs": [],
   "source": [
    "for directory in model_config.load_dir:\n",
    "    pre_trained = torch.load(directory)\n",
    "    now_weight = model.get_weight()\n",
    "    now_weight.update(pre_trained)\n",
    "    model.load_weight(now_weight)"
   ]
  },
  {
   "cell_type": "markdown",
   "id": "4fbadef0",
   "metadata": {},
   "source": [
    "### fit model & see loss and performance"
   ]
  },
  {
   "cell_type": "code",
   "execution_count": 19,
   "id": "94790ab5",
   "metadata": {},
   "outputs": [
    {
     "name": "stdout",
     "output_type": "stream",
     "text": [
      "\n",
      "[NeuFM]============================================== Train ===============================================\n",
      "[NeuFM]             (train: BCE)        (validation: HR)    \n",
      "          (epoch 5) 0.2385              0.8098              \n",
      "         (epoch 10) 0.2148              0.8164              \n",
      "         (epoch 15) 0.2016              0.8180              \n",
      "         (epoch 20) 0.1867              0.8164              \n",
      "         (epoch 25) 0.1708              0.8295              \n",
      "         (epoch 30) 0.1604              0.8246              \n"
     ]
    }
   ],
   "source": [
    "train_loader = DataLoader(dataset, batch_size=dataset_config.batch)\n",
    "model.fit(train_loader=train_loader, val_data=validation)"
   ]
  },
  {
   "cell_type": "markdown",
   "id": "5d1aa1d1",
   "metadata": {},
   "source": [
    "***"
   ]
  },
  {
   "cell_type": "markdown",
   "id": "e7c9ce99",
   "metadata": {},
   "source": [
    "## 3) Evaluation"
   ]
  },
  {
   "cell_type": "markdown",
   "id": "2d48ad9b",
   "metadata": {},
   "source": [
    "### evaluate testset"
   ]
  },
  {
   "cell_type": "code",
   "execution_count": 20,
   "id": "d2a26ac5",
   "metadata": {},
   "outputs": [
    {
     "name": "stdout",
     "output_type": "stream",
     "text": [
      "\n",
      "[NeuMF]============================================= Evaluate =============================================\n",
      "[NeuMF] (test: HR) = 0.8148\n"
     ]
    }
   ],
   "source": [
    "model.test(train_loader=train_loader, test_data=test)"
   ]
  },
  {
   "cell_type": "markdown",
   "id": "d3ff3017",
   "metadata": {},
   "source": [
    "### see plot for loss and performance"
   ]
  },
  {
   "cell_type": "code",
   "execution_count": 21,
   "id": "8f3e6be1",
   "metadata": {},
   "outputs": [
    {
     "data": {
      "image/png": "[encoded data removed]",
      "text/plain": [
       "<Figure size 864x288 with 2 Axes>"
      ]
     },
     "metadata": {
      "needs_background": "light"
     },
     "output_type": "display_data"
    }
   ],
   "source": [
    "figure = model.draw_plot()\n",
    "plt.show()"
   ]
  }
 ],
 "metadata": {
  "kernelspec": {
   "display_name": "reco_sys",
   "language": "python",
   "name": "reco_sys"
  },
  "language_info": {
   "codemirror_mode": {
    "name": "ipython",
    "version": 3
   },
   "file_extension": ".py",
   "mimetype": "text/x-python",
   "name": "python",
   "nbconvert_exporter": "python",
   "pygments_lexer": "ipython3",
   "version": "3.7.13"
  }
 },
 "nbformat": 4,
 "nbformat_minor": 5
}
