{
 "cells": [
  {
   "cell_type": "markdown",
   "id": "da150e9b",
   "metadata": {},
   "source": [
    "***"
   ]
  },
  {
   "cell_type": "markdown",
   "id": "30695d14",
   "metadata": {},
   "source": [
    "# NGCF\n",
    " - 사용자와 아이템의 이분 그래프 구조를 기반으로 상호작용에 대한 가중치를 추정하여 사용자와 아이템의 임베딩을 구함으로써 평점을 예측하는 기법\n",
    " \n",
    "### - Reference: [Neural Graph Collaborative Filtering](https://arxiv.org/pdf/1905.08108v2.pdf)\n",
    "\n",
    "### - Prediction:\n",
    "평점 $y_{ui}$에 대해서 아래와 같이 예측\n",
    "<center> $\\hat{y}(u, i) = e^{*T}_u e^*_i$ </center>\n",
    "\n",
    "\n",
    "|expression|mean|\n",
    "|:---:|:---:|\n",
    "|$e_u^*$|$$(e^{(0)T}_u, e^{(1)T}_u, ..., e^{(L)T}_u)^T$$, 초기 임베딩(원핫)과 L개의 그래프 레이어를 통과한 각각의 벡터의 concatenate|\n",
    "\n",
    "### - Optimization:\n",
    "사용자 u의 평점이 관측된 아이템 i와 관측되지 않은 아이템 j에 대하여 아래와 같은 목적함수를 최소화하는 minima를 찾음으로써 파라미터를 추정함\n",
    "<center>$\\sum_{(u,i,j)\\in O} -ln\\sigma(\\hat{y_{ui}}-\\hat{y_{uj}}) + \\lambda ||\\Theta||^2_2$</center>\n",
    "\n",
    "|expression|mean|\n",
    "|:---:|:---:|\n",
    "|$O$|사용자 $u$와 평점이 관측된 아이템 $i$, 관측되지 않은 아이템 $j$의 집합<br />관측된 하나의$i$에 대하여 k개의 $j$를 임의추출하여 $(u, i, j)$을 만듬, $i$는 복원추출될 수 있음|\n",
    "|$\\lambda||\\Theta||^2_2$|규제항 파라미터를 대각원소로 같는 공분산 |\n",
    "\n",
    "    \n",
    "### - Evaluation:\n",
    "|split|measure|\n",
    "|:---:|:---:|\n",
    "|holdout|NDCG|"
   ]
  },
  {
   "cell_type": "markdown",
   "id": "31b6bba7",
   "metadata": {},
   "source": [
    "***"
   ]
  },
  {
   "cell_type": "markdown",
   "id": "0d9954c7",
   "metadata": {},
   "source": [
    "## 0) Import library"
   ]
  },
  {
   "cell_type": "code",
   "execution_count": 30,
   "id": "0dfe6538",
   "metadata": {},
   "outputs": [],
   "source": [
    "import os\n",
    "import sys\n",
    "sys.path.append(os.path.dirname(os.path.abspath(os.getcwd())))\n",
    "\n",
    "from Generator.PairwiseGenerator import PairwiseGenerator\n",
    "from Models.NGCF import NGCF\n",
    "\n",
    "import pandas as pd\n",
    "import numpy as np\n",
    "import random\n",
    "from sklearn.model_selection import train_test_split\n",
    "from torch.utils.data import DataLoader\n",
    "import matplotlib.pyplot as plt"
   ]
  },
  {
   "cell_type": "markdown",
   "id": "7e997aff",
   "metadata": {},
   "source": [
    "***"
   ]
  },
  {
   "cell_type": "markdown",
   "id": "8311185c",
   "metadata": {},
   "source": [
    "## 1) Data processing"
   ]
  },
  {
   "cell_type": "markdown",
   "id": "d5f860d4",
   "metadata": {},
   "source": [
    "### load data"
   ]
  },
  {
   "cell_type": "code",
   "execution_count": 31,
   "id": "0167a670",
   "metadata": {},
   "outputs": [
    {
     "data": {
      "text/html": [
       "<div>\n",
       "<style scoped>\n",
       "    .dataframe tbody tr th:only-of-type {\n",
       "        vertical-align: middle;\n",
       "    }\n",
       "\n",
       "    .dataframe tbody tr th {\n",
       "        vertical-align: top;\n",
       "    }\n",
       "\n",
       "    .dataframe thead th {\n",
       "        text-align: right;\n",
       "    }\n",
       "</style>\n",
       "<table border=\"1\" class=\"dataframe\">\n",
       "  <thead>\n",
       "    <tr style=\"text-align: right;\">\n",
       "      <th></th>\n",
       "      <th>user_id</th>\n",
       "      <th>item_id</th>\n",
       "      <th>rating</th>\n",
       "    </tr>\n",
       "  </thead>\n",
       "  <tbody>\n",
       "    <tr>\n",
       "      <th>0</th>\n",
       "      <td>1</td>\n",
       "      <td>1</td>\n",
       "      <td>4.0</td>\n",
       "    </tr>\n",
       "    <tr>\n",
       "      <th>1</th>\n",
       "      <td>1</td>\n",
       "      <td>3</td>\n",
       "      <td>4.0</td>\n",
       "    </tr>\n",
       "    <tr>\n",
       "      <th>2</th>\n",
       "      <td>1</td>\n",
       "      <td>6</td>\n",
       "      <td>4.0</td>\n",
       "    </tr>\n",
       "    <tr>\n",
       "      <th>3</th>\n",
       "      <td>1</td>\n",
       "      <td>47</td>\n",
       "      <td>5.0</td>\n",
       "    </tr>\n",
       "    <tr>\n",
       "      <th>4</th>\n",
       "      <td>1</td>\n",
       "      <td>50</td>\n",
       "      <td>5.0</td>\n",
       "    </tr>\n",
       "    <tr>\n",
       "      <th>...</th>\n",
       "      <td>...</td>\n",
       "      <td>...</td>\n",
       "      <td>...</td>\n",
       "    </tr>\n",
       "    <tr>\n",
       "      <th>100831</th>\n",
       "      <td>610</td>\n",
       "      <td>166534</td>\n",
       "      <td>4.0</td>\n",
       "    </tr>\n",
       "    <tr>\n",
       "      <th>100832</th>\n",
       "      <td>610</td>\n",
       "      <td>168248</td>\n",
       "      <td>5.0</td>\n",
       "    </tr>\n",
       "    <tr>\n",
       "      <th>100833</th>\n",
       "      <td>610</td>\n",
       "      <td>168250</td>\n",
       "      <td>5.0</td>\n",
       "    </tr>\n",
       "    <tr>\n",
       "      <th>100834</th>\n",
       "      <td>610</td>\n",
       "      <td>168252</td>\n",
       "      <td>5.0</td>\n",
       "    </tr>\n",
       "    <tr>\n",
       "      <th>100835</th>\n",
       "      <td>610</td>\n",
       "      <td>170875</td>\n",
       "      <td>3.0</td>\n",
       "    </tr>\n",
       "  </tbody>\n",
       "</table>\n",
       "<p>100836 rows × 3 columns</p>\n",
       "</div>"
      ],
      "text/plain": [
       "        user_id  item_id  rating\n",
       "0             1        1     4.0\n",
       "1             1        3     4.0\n",
       "2             1        6     4.0\n",
       "3             1       47     5.0\n",
       "4             1       50     5.0\n",
       "...         ...      ...     ...\n",
       "100831      610   166534     4.0\n",
       "100832      610   168248     5.0\n",
       "100833      610   168250     5.0\n",
       "100834      610   168252     5.0\n",
       "100835      610   170875     3.0\n",
       "\n",
       "[100836 rows x 3 columns]"
      ]
     },
     "execution_count": 31,
     "metadata": {},
     "output_type": "execute_result"
    }
   ],
   "source": [
    "ratings = pd.read_csv('../data/movie_lens/ratings.csv',\n",
    "                      names=['user_id', 'item_id', 'rating', '_'],\n",
    "                      skiprows=1).drop(columns=['_'])\n",
    "ratings"
   ]
  },
  {
   "cell_type": "markdown",
   "id": "63e754d0",
   "metadata": {},
   "source": [
    "### remain item if count>10 per users"
   ]
  },
  {
   "cell_type": "code",
   "execution_count": 32,
   "id": "0cf7ddb7",
   "metadata": {},
   "outputs": [
    {
     "data": {
      "text/html": [
       "<div>\n",
       "<style scoped>\n",
       "    .dataframe tbody tr th:only-of-type {\n",
       "        vertical-align: middle;\n",
       "    }\n",
       "\n",
       "    .dataframe tbody tr th {\n",
       "        vertical-align: top;\n",
       "    }\n",
       "\n",
       "    .dataframe thead th {\n",
       "        text-align: right;\n",
       "    }\n",
       "</style>\n",
       "<table border=\"1\" class=\"dataframe\">\n",
       "  <thead>\n",
       "    <tr style=\"text-align: right;\">\n",
       "      <th></th>\n",
       "      <th>user_id</th>\n",
       "      <th>item_id</th>\n",
       "      <th>rating</th>\n",
       "    </tr>\n",
       "  </thead>\n",
       "  <tbody>\n",
       "    <tr>\n",
       "      <th>0</th>\n",
       "      <td>1</td>\n",
       "      <td>1</td>\n",
       "      <td>4.0</td>\n",
       "    </tr>\n",
       "    <tr>\n",
       "      <th>1</th>\n",
       "      <td>1</td>\n",
       "      <td>3</td>\n",
       "      <td>4.0</td>\n",
       "    </tr>\n",
       "    <tr>\n",
       "      <th>2</th>\n",
       "      <td>1</td>\n",
       "      <td>6</td>\n",
       "      <td>4.0</td>\n",
       "    </tr>\n",
       "    <tr>\n",
       "      <th>3</th>\n",
       "      <td>1</td>\n",
       "      <td>47</td>\n",
       "      <td>5.0</td>\n",
       "    </tr>\n",
       "    <tr>\n",
       "      <th>4</th>\n",
       "      <td>1</td>\n",
       "      <td>50</td>\n",
       "      <td>5.0</td>\n",
       "    </tr>\n",
       "    <tr>\n",
       "      <th>...</th>\n",
       "      <td>...</td>\n",
       "      <td>...</td>\n",
       "      <td>...</td>\n",
       "    </tr>\n",
       "    <tr>\n",
       "      <th>100818</th>\n",
       "      <td>610</td>\n",
       "      <td>159093</td>\n",
       "      <td>3.0</td>\n",
       "    </tr>\n",
       "    <tr>\n",
       "      <th>100829</th>\n",
       "      <td>610</td>\n",
       "      <td>164179</td>\n",
       "      <td>5.0</td>\n",
       "    </tr>\n",
       "    <tr>\n",
       "      <th>100830</th>\n",
       "      <td>610</td>\n",
       "      <td>166528</td>\n",
       "      <td>4.0</td>\n",
       "    </tr>\n",
       "    <tr>\n",
       "      <th>100833</th>\n",
       "      <td>610</td>\n",
       "      <td>168250</td>\n",
       "      <td>5.0</td>\n",
       "    </tr>\n",
       "    <tr>\n",
       "      <th>100834</th>\n",
       "      <td>610</td>\n",
       "      <td>168252</td>\n",
       "      <td>5.0</td>\n",
       "    </tr>\n",
       "  </tbody>\n",
       "</table>\n",
       "<p>81116 rows × 3 columns</p>\n",
       "</div>"
      ],
      "text/plain": [
       "        user_id  item_id  rating\n",
       "0             1        1     4.0\n",
       "1             1        3     4.0\n",
       "2             1        6     4.0\n",
       "3             1       47     5.0\n",
       "4             1       50     5.0\n",
       "...         ...      ...     ...\n",
       "100818      610   159093     3.0\n",
       "100829      610   164179     5.0\n",
       "100830      610   166528     4.0\n",
       "100833      610   168250     5.0\n",
       "100834      610   168252     5.0\n",
       "\n",
       "[81116 rows x 3 columns]"
      ]
     },
     "execution_count": 32,
     "metadata": {},
     "output_type": "execute_result"
    }
   ],
   "source": [
    "while True:\n",
    "    if (min(ratings.groupby('item_id').count()['user_id']) >= 10) and\\\n",
    "       (min(ratings.groupby('user_id').count()['item_id']) >= 1):\n",
    "        break\n",
    "\n",
    "    lower_item_per_user = ratings.groupby('user_id').count()['item_id']<1\n",
    "    remove_user_ids = lower_item_per_user[lower_item_per_user==True].index\n",
    "    ratings = ratings[ratings.user_id.isin(remove_user_ids)==False]\n",
    "\n",
    "    lower_user_per_item = ratings.groupby('item_id').count()['user_id']<10\n",
    "    remove_item_ids = lower_user_per_item[lower_user_per_item==True].index\n",
    "    ratings = ratings[ratings.item_id.isin(remove_item_ids)==False]\n",
    "    \n",
    "ratings"
   ]
  },
  {
   "cell_type": "markdown",
   "id": "dd2540f5",
   "metadata": {},
   "source": [
    "### convert id to index"
   ]
  },
  {
   "cell_type": "code",
   "execution_count": 33,
   "id": "9ebad5cb",
   "metadata": {},
   "outputs": [
    {
     "data": {
      "text/html": [
       "<div>\n",
       "<style scoped>\n",
       "    .dataframe tbody tr th:only-of-type {\n",
       "        vertical-align: middle;\n",
       "    }\n",
       "\n",
       "    .dataframe tbody tr th {\n",
       "        vertical-align: top;\n",
       "    }\n",
       "\n",
       "    .dataframe thead th {\n",
       "        text-align: right;\n",
       "    }\n",
       "</style>\n",
       "<table border=\"1\" class=\"dataframe\">\n",
       "  <thead>\n",
       "    <tr style=\"text-align: right;\">\n",
       "      <th></th>\n",
       "      <th>user_id</th>\n",
       "      <th>item_id</th>\n",
       "      <th>rating</th>\n",
       "    </tr>\n",
       "  </thead>\n",
       "  <tbody>\n",
       "    <tr>\n",
       "      <th>0</th>\n",
       "      <td>0</td>\n",
       "      <td>0</td>\n",
       "      <td>4.0</td>\n",
       "    </tr>\n",
       "    <tr>\n",
       "      <th>1</th>\n",
       "      <td>0</td>\n",
       "      <td>1</td>\n",
       "      <td>4.0</td>\n",
       "    </tr>\n",
       "    <tr>\n",
       "      <th>2</th>\n",
       "      <td>0</td>\n",
       "      <td>2</td>\n",
       "      <td>4.0</td>\n",
       "    </tr>\n",
       "    <tr>\n",
       "      <th>3</th>\n",
       "      <td>0</td>\n",
       "      <td>3</td>\n",
       "      <td>5.0</td>\n",
       "    </tr>\n",
       "    <tr>\n",
       "      <th>4</th>\n",
       "      <td>0</td>\n",
       "      <td>4</td>\n",
       "      <td>5.0</td>\n",
       "    </tr>\n",
       "    <tr>\n",
       "      <th>...</th>\n",
       "      <td>...</td>\n",
       "      <td>...</td>\n",
       "      <td>...</td>\n",
       "    </tr>\n",
       "    <tr>\n",
       "      <th>100818</th>\n",
       "      <td>609</td>\n",
       "      <td>1082</td>\n",
       "      <td>3.0</td>\n",
       "    </tr>\n",
       "    <tr>\n",
       "      <th>100829</th>\n",
       "      <td>609</td>\n",
       "      <td>1083</td>\n",
       "      <td>5.0</td>\n",
       "    </tr>\n",
       "    <tr>\n",
       "      <th>100830</th>\n",
       "      <td>609</td>\n",
       "      <td>854</td>\n",
       "      <td>4.0</td>\n",
       "    </tr>\n",
       "    <tr>\n",
       "      <th>100833</th>\n",
       "      <td>609</td>\n",
       "      <td>1917</td>\n",
       "      <td>5.0</td>\n",
       "    </tr>\n",
       "    <tr>\n",
       "      <th>100834</th>\n",
       "      <td>609</td>\n",
       "      <td>1084</td>\n",
       "      <td>5.0</td>\n",
       "    </tr>\n",
       "  </tbody>\n",
       "</table>\n",
       "<p>81116 rows × 3 columns</p>\n",
       "</div>"
      ],
      "text/plain": [
       "        user_id  item_id  rating\n",
       "0             0        0     4.0\n",
       "1             0        1     4.0\n",
       "2             0        2     4.0\n",
       "3             0        3     5.0\n",
       "4             0        4     5.0\n",
       "...         ...      ...     ...\n",
       "100818      609     1082     3.0\n",
       "100829      609     1083     5.0\n",
       "100830      609      854     4.0\n",
       "100833      609     1917     5.0\n",
       "100834      609     1084     5.0\n",
       "\n",
       "[81116 rows x 3 columns]"
      ]
     },
     "execution_count": 33,
     "metadata": {},
     "output_type": "execute_result"
    }
   ],
   "source": [
    "user_ids = ratings['user_id'].unique().tolist()\n",
    "item_ids = ratings['item_id'].unique().tolist()\n",
    "\n",
    "num_user = len(user_ids)\n",
    "num_item = len(item_ids)\n",
    "\n",
    "id_to_index_user = {user_ids[i] :i for i in range(num_user)}\n",
    "id_to_index_item = {item_ids[i] :i for i in range(num_item)}\n",
    "\n",
    "ratings['user_id'] = ratings['user_id'].apply(lambda x: id_to_index_user[x])\n",
    "ratings['item_id'] = ratings['item_id'].apply(lambda x: id_to_index_item[x])\n",
    "\n",
    "ratings"
   ]
  },
  {
   "cell_type": "markdown",
   "id": "4ffc9635",
   "metadata": {},
   "source": [
    "### convert explicit feedback to implicit feedback"
   ]
  },
  {
   "cell_type": "code",
   "execution_count": 34,
   "id": "7f82f064",
   "metadata": {},
   "outputs": [
    {
     "data": {
      "text/html": [
       "<div>\n",
       "<style scoped>\n",
       "    .dataframe tbody tr th:only-of-type {\n",
       "        vertical-align: middle;\n",
       "    }\n",
       "\n",
       "    .dataframe tbody tr th {\n",
       "        vertical-align: top;\n",
       "    }\n",
       "\n",
       "    .dataframe thead th {\n",
       "        text-align: right;\n",
       "    }\n",
       "</style>\n",
       "<table border=\"1\" class=\"dataframe\">\n",
       "  <thead>\n",
       "    <tr style=\"text-align: right;\">\n",
       "      <th></th>\n",
       "      <th>user_id</th>\n",
       "      <th>item_id</th>\n",
       "      <th>rating</th>\n",
       "    </tr>\n",
       "  </thead>\n",
       "  <tbody>\n",
       "    <tr>\n",
       "      <th>0</th>\n",
       "      <td>0</td>\n",
       "      <td>0</td>\n",
       "      <td>1</td>\n",
       "    </tr>\n",
       "    <tr>\n",
       "      <th>1</th>\n",
       "      <td>0</td>\n",
       "      <td>1</td>\n",
       "      <td>1</td>\n",
       "    </tr>\n",
       "    <tr>\n",
       "      <th>2</th>\n",
       "      <td>0</td>\n",
       "      <td>2</td>\n",
       "      <td>1</td>\n",
       "    </tr>\n",
       "    <tr>\n",
       "      <th>3</th>\n",
       "      <td>0</td>\n",
       "      <td>3</td>\n",
       "      <td>1</td>\n",
       "    </tr>\n",
       "    <tr>\n",
       "      <th>4</th>\n",
       "      <td>0</td>\n",
       "      <td>4</td>\n",
       "      <td>1</td>\n",
       "    </tr>\n",
       "    <tr>\n",
       "      <th>...</th>\n",
       "      <td>...</td>\n",
       "      <td>...</td>\n",
       "      <td>...</td>\n",
       "    </tr>\n",
       "    <tr>\n",
       "      <th>100818</th>\n",
       "      <td>609</td>\n",
       "      <td>1082</td>\n",
       "      <td>1</td>\n",
       "    </tr>\n",
       "    <tr>\n",
       "      <th>100829</th>\n",
       "      <td>609</td>\n",
       "      <td>1083</td>\n",
       "      <td>1</td>\n",
       "    </tr>\n",
       "    <tr>\n",
       "      <th>100830</th>\n",
       "      <td>609</td>\n",
       "      <td>854</td>\n",
       "      <td>1</td>\n",
       "    </tr>\n",
       "    <tr>\n",
       "      <th>100833</th>\n",
       "      <td>609</td>\n",
       "      <td>1917</td>\n",
       "      <td>1</td>\n",
       "    </tr>\n",
       "    <tr>\n",
       "      <th>100834</th>\n",
       "      <td>609</td>\n",
       "      <td>1084</td>\n",
       "      <td>1</td>\n",
       "    </tr>\n",
       "  </tbody>\n",
       "</table>\n",
       "<p>81116 rows × 3 columns</p>\n",
       "</div>"
      ],
      "text/plain": [
       "        user_id  item_id  rating\n",
       "0             0        0       1\n",
       "1             0        1       1\n",
       "2             0        2       1\n",
       "3             0        3       1\n",
       "4             0        4       1\n",
       "...         ...      ...     ...\n",
       "100818      609     1082       1\n",
       "100829      609     1083       1\n",
       "100830      609      854       1\n",
       "100833      609     1917       1\n",
       "100834      609     1084       1\n",
       "\n",
       "[81116 rows x 3 columns]"
      ]
     },
     "execution_count": 34,
     "metadata": {},
     "output_type": "execute_result"
    }
   ],
   "source": [
    "ratings['rating'] = 1\n",
    "ratings"
   ]
  },
  {
   "cell_type": "markdown",
   "id": "72012bc5",
   "metadata": {},
   "source": [
    "### split data"
   ]
  },
  {
   "cell_type": "code",
   "execution_count": 35,
   "id": "c533184c",
   "metadata": {},
   "outputs": [
    {
     "name": "stdout",
     "output_type": "stream",
     "text": [
      "# of observation(train/val/test): 56781, 8111, 16224\n"
     ]
    }
   ],
   "source": [
    "val_ratio = 0.1\n",
    "test_ratio = 0.2\n",
    "seed = 1234\n",
    "\n",
    "train, others = train_test_split(ratings,\n",
    "                                 test_size=val_ratio+test_ratio,\n",
    "                                 shuffle=True,\n",
    "                                 random_state=seed)\n",
    "\n",
    "validation, test = train_test_split(others,\n",
    "                                    test_size=test_ratio/(val_ratio+test_ratio),\n",
    "                                    shuffle=True,\n",
    "                                    random_state=seed)\n",
    "\n",
    "print(f\"# of observation(train/val/test): {len(train)}, {len(validation)}, {len(test)}\")"
   ]
  },
  {
   "cell_type": "markdown",
   "id": "935a9355",
   "metadata": {},
   "source": [
    "### set config & get dataset from generator"
   ]
  },
  {
   "cell_type": "code",
   "execution_count": 36,
   "id": "339e37a0",
   "metadata": {},
   "outputs": [],
   "source": [
    "class DatasetConfig:\n",
    "    num_negative = 2\n",
    "    between_observed = False\n",
    "    batch = 512\n",
    "    \n",
    "dataset_config = DatasetConfig()"
   ]
  },
  {
   "cell_type": "code",
   "execution_count": 37,
   "id": "770ff289",
   "metadata": {},
   "outputs": [],
   "source": [
    "dataset = PairwiseGenerator(train_data=train,\n",
    "                            n_user=num_user,\n",
    "                            n_item=num_item,\n",
    "                            config=dataset_config)"
   ]
  },
  {
   "cell_type": "markdown",
   "id": "9a1c78a1",
   "metadata": {},
   "source": [
    "### see example data for a batch"
   ]
  },
  {
   "cell_type": "code",
   "execution_count": 38,
   "id": "301da548",
   "metadata": {},
   "outputs": [],
   "source": [
    "train_loader = DataLoader(dataset, batch_size=2)\n",
    "data1, data2, data3 = next(iter(train_loader))"
   ]
  },
  {
   "cell_type": "markdown",
   "id": "f15cbee0",
   "metadata": {},
   "source": [
    "(1) [user id X batch_size]"
   ]
  },
  {
   "cell_type": "code",
   "execution_count": 39,
   "id": "30a8b6ea",
   "metadata": {},
   "outputs": [
    {
     "data": {
      "text/plain": [
       "tensor([56, 56])"
      ]
     },
     "execution_count": 39,
     "metadata": {},
     "output_type": "execute_result"
    }
   ],
   "source": [
    "data1"
   ]
  },
  {
   "cell_type": "markdown",
   "id": "5b7f9498",
   "metadata": {},
   "source": [
    "(2) [item id_pos X batch_size]"
   ]
  },
  {
   "cell_type": "code",
   "execution_count": 40,
   "id": "2c4638e9",
   "metadata": {},
   "outputs": [
    {
     "data": {
      "text/plain": [
       "tensor([1660, 1660])"
      ]
     },
     "execution_count": 40,
     "metadata": {},
     "output_type": "execute_result"
    }
   ],
   "source": [
    "data2"
   ]
  },
  {
   "cell_type": "markdown",
   "id": "40091f72",
   "metadata": {},
   "source": [
    "(3) [item id_neg X batch_size]"
   ]
  },
  {
   "cell_type": "code",
   "execution_count": 41,
   "id": "53c0ff52",
   "metadata": {},
   "outputs": [
    {
     "data": {
      "text/plain": [
       "tensor([1990,  143])"
      ]
     },
     "execution_count": 41,
     "metadata": {},
     "output_type": "execute_result"
    }
   ],
   "source": [
    "data3"
   ]
  },
  {
   "cell_type": "markdown",
   "id": "301cd46c",
   "metadata": {},
   "source": [
    "note. item_id_pos : positive item, item_id_neg : negative item"
   ]
  },
  {
   "cell_type": "markdown",
   "id": "3c116c92",
   "metadata": {},
   "source": [
    "***"
   ]
  },
  {
   "cell_type": "markdown",
   "id": "80df261f",
   "metadata": {},
   "source": [
    "## 2) Modeling"
   ]
  },
  {
   "cell_type": "markdown",
   "id": "9ac0c9f7",
   "metadata": {},
   "source": [
    "### set config & get model"
   ]
  },
  {
   "cell_type": "code",
   "execution_count": 42,
   "id": "e0257115",
   "metadata": {},
   "outputs": [],
   "source": [
    "class OptimizerConfig:\n",
    "    method = 'Adam'\n",
    "    regulation = 1e-5\n",
    "    learning_rate = 0.01\n",
    "    learning_decay = 0.95\n",
    "\n",
    "class ModelConfig:\n",
    "    epochs = 10\n",
    "    print_step = 1\n",
    "\n",
    "class NGCFConfig:\n",
    "    evaluation = 'NDCG'\n",
    "    k = 20\n",
    "    dim_embedding = 16\n",
    "    num_layer = 3\n",
    "    dropout_msg = 0.1\n",
    "    dropout_node = 0.0\n",
    "\n",
    "optimizer_config = OptimizerConfig()\n",
    "ngcf_config = NGCFConfig()\n",
    "model_config = ModelConfig()"
   ]
  },
  {
   "cell_type": "code",
   "execution_count": 43,
   "id": "ab4cb278",
   "metadata": {},
   "outputs": [
    {
     "name": "stdout",
     "output_type": "stream",
     "text": [
      "[BaseModel] method = Adam\n",
      "[BaseModel] regulation = 1e-05\n",
      "[BaseModel] learning_rate = 0.01\n",
      "[BaseModel] learning_rate_decay = 0.95\n"
     ]
    }
   ],
   "source": [
    "inputs = {\"n_user\":num_user,\n",
    "          \"n_item\":num_item}\n",
    "\n",
    "model = NGCF(inputs, model_config, optimizer_config, ngcf_config)"
   ]
  },
  {
   "cell_type": "markdown",
   "id": "0a0f2486",
   "metadata": {},
   "source": [
    "### fit model & see loss and performance"
   ]
  },
  {
   "cell_type": "code",
   "execution_count": 44,
   "id": "130813b4",
   "metadata": {},
   "outputs": [
    {
     "name": "stdout",
     "output_type": "stream",
     "text": [
      "\n",
      "[NGCF]============================================== Train ===============================================\n",
      "[NGCF]              (train: BPRloss)    (validation: NDCG)  \n",
      "          (epoch 1) 233.5246            0.0220              \n",
      "          (epoch 2) 190.1070            0.0295              \n",
      "          (epoch 3) 166.4130            0.0314              \n",
      "          (epoch 4) 146.2037            0.0337              \n",
      "          (epoch 5) 132.9830            0.0354              \n",
      "          (epoch 6) 121.2350            0.0338              \n",
      "          (epoch 7) 113.4099            0.0351              \n",
      "          (epoch 8) 106.6019            0.0354              \n",
      "          (epoch 9) 102.5700            0.0346              \n",
      "         (epoch 10) 96.6409             0.0347              \n"
     ]
    }
   ],
   "source": [
    "train_loader = DataLoader(dataset, batch_size=dataset_config.batch)\n",
    "model.fit(train_loader=train_loader, val_data=validation)"
   ]
  },
  {
   "cell_type": "markdown",
   "id": "bf7f0522",
   "metadata": {},
   "source": [
    "***"
   ]
  },
  {
   "cell_type": "markdown",
   "id": "2423e9e1",
   "metadata": {},
   "source": [
    "## 3) Evaluation"
   ]
  },
  {
   "cell_type": "markdown",
   "id": "6a0558b1",
   "metadata": {},
   "source": [
    "### evaluate testset"
   ]
  },
  {
   "cell_type": "code",
   "execution_count": 45,
   "id": "db686037",
   "metadata": {},
   "outputs": [
    {
     "name": "stdout",
     "output_type": "stream",
     "text": [
      "\n",
      "[NGCF]============================================= Evaluate =============================================\n",
      "[NGCF] (test: NDCG) = 0.0447\n"
     ]
    }
   ],
   "source": [
    "model.test(train_loader=train_loader, test_data=test)"
   ]
  },
  {
   "cell_type": "markdown",
   "id": "9da34bc1",
   "metadata": {},
   "source": [
    "### see plot for loss and performance"
   ]
  },
  {
   "cell_type": "code",
   "execution_count": 46,
   "id": "f6f9126c",
   "metadata": {},
   "outputs": [
    {
     "data": {
      "image/png": "[encoded data removed]",
      "text/plain": [
       "<Figure size 864x288 with 2 Axes>"
      ]
     },
     "metadata": {
      "needs_background": "light"
     },
     "output_type": "display_data"
    }
   ],
   "source": [
    "figure = model.draw_plot()\n",
    "plt.show()"
   ]
  }
 ],
 "metadata": {
  "kernelspec": {
   "display_name": "reco_sys",
   "language": "python",
   "name": "reco_sys"
  },
  "language_info": {
   "codemirror_mode": {
    "name": "ipython",
    "version": 3
   },
   "file_extension": ".py",
   "mimetype": "text/x-python",
   "name": "python",
   "nbconvert_exporter": "python",
   "pygments_lexer": "ipython3",
   "version": "3.7.13"
  }
 },
 "nbformat": 4,
 "nbformat_minor": 5
}
