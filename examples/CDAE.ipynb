{
 "cells": [
  {
   "cell_type": "markdown",
   "id": "b8904308",
   "metadata": {},
   "source": [
    "***"
   ]
  },
  {
   "cell_type": "markdown",
   "id": "bd26660f",
   "metadata": {},
   "source": [
    "# CDAE\n",
    "- 아이템의 사용자별 평점 벡터에 대하여 Auto Encoder 방식인 input, output을 재현하는 AutoRec에서 in/out 벡터에 denoising을 주고, 사용자의 bias텀을 추가한 방식으로 선호 순위를 예측하는 기법\n",
    "\n",
    "### - Reference: [Collaborative Denoising Auto-Encoders for Top-N Recommender Systems](https://alicezheng.org/papers/wsdm16-cdae.pdf)\n",
    "\n",
    "### - Prediction:\n",
    "사용자u에 대한 아이템들의 평점벡터 $y_{i}$는 아래와 같이 예측\n",
    "<center> $\\hat{y_{u}} = f(W'^Tz_u+b'), z_u = h(W^T\\tilde{y_u}+V_u+b)$ </center>\n",
    "\n",
    "|expression|mean|\n",
    "|:---:|:---:|\n",
    "|$$y_{i}=(r_{u1}, r_{u2}, ..., r_{um})$$|사용자 u의 아이템들의 평점 벡터|\n",
    "|$W$, $W'$|인코더 레이어,디코더 레이어|\n",
    "|$h(\\cdot), f(\\cdot)$| 인코더, 디코더 레이어의 활성화 함수, sigmoid, relu등이 사용될 수 있음|\n",
    "|$b, b'$|인코더, 디코더 레이어의 bias|\n",
    "|$V$|사용자 임베딩벡터|\n",
    "|$\\tilde{y_u}$|denoising된 $y_{u}$의 벡터|\n",
    "\n",
    "- denoising 방법\n",
    "    - $y_i$의 원소중 0이 아닌 값에 대하여 아래와 같이 변환\n",
    "\n",
    "        1) $q$의 확률로 원소를 0으로 변환\n",
    "\n",
    "        2) $1-q$의 확률로 원소를 기존값에 $\\delta=1/(1-q)$를 곱한 값으로 변환\n",
    "\n",
    "### - Optimization:\n",
    "관측된/ 관측되지 않은 평점벡터에 대하여 binary cross entropy를 목적함수로 하여 파라미터를 추정</br>\n",
    "인코더 레이어 $W$의 가중치는 관측된 평점에 대하여 계산된 그래디언트만 반영하여 가중치를 업데이트</br>\n",
    "디코더 레이어 $W'$의 가중치는 관측되지 않은 평점을 임의추출하여 관측된/관측되지 않은 평점에 대하여 계산된 그래디언트를 반영하여 가중치를 업데이트</br>\n",
    "</br>\n",
    "논문에서는 평점이 4이상인 것만 1, 그렇지 않으면 0으로 implicit feedback을 생성하였음</br>\n",
    "평점이 5개 미만인 아이템과 사용자는 제거하였음</br>\n",
    "관측되지 않은 평점을 임의추출하는 개수는 관측된 평점의 5배로 하였음</br>\n",
    "    \n",
    "### - Evaluation:\n",
    "<center> $AP@N = \\frac{sum_{k}Precision@k*rel(k)}{min\\{N,|C_{adopted}|\\}}$ </center>\n",
    "    \n",
    "|split|measure|\n",
    "|:---:|:---:|\n",
    "|holdout|MAP|"
   ]
  },
  {
   "cell_type": "markdown",
   "id": "e4e7b2db",
   "metadata": {},
   "source": [
    "***"
   ]
  },
  {
   "cell_type": "markdown",
   "id": "559a9299",
   "metadata": {},
   "source": [
    "## Import library"
   ]
  },
  {
   "cell_type": "code",
   "execution_count": 23,
   "id": "cc215486",
   "metadata": {},
   "outputs": [],
   "source": [
    "import os\n",
    "import sys\n",
    "sys.path.append(os.path.dirname(os.path.abspath(os.getcwd())))\n",
    "\n",
    "from Generator.MatrixGenerator import MatrixGenerator\n",
    "from Models.CDAE import CDAE\n",
    "\n",
    "import pandas as pd\n",
    "import numpy as np\n",
    "import random\n",
    "from sklearn.model_selection import train_test_split\n",
    "from torch.utils.data import DataLoader\n",
    "import matplotlib.pyplot as plt"
   ]
  },
  {
   "cell_type": "markdown",
   "id": "865ae322",
   "metadata": {},
   "source": [
    "***"
   ]
  },
  {
   "cell_type": "markdown",
   "id": "f4b5050c",
   "metadata": {},
   "source": [
    "## 1) Datat processing"
   ]
  },
  {
   "cell_type": "markdown",
   "id": "35562c4d",
   "metadata": {},
   "source": [
    "### load data"
   ]
  },
  {
   "cell_type": "code",
   "execution_count": 7,
   "id": "d0166a7b",
   "metadata": {},
   "outputs": [
    {
     "data": {
      "text/html": [
       "<div>\n",
       "<style scoped>\n",
       "    .dataframe tbody tr th:only-of-type {\n",
       "        vertical-align: middle;\n",
       "    }\n",
       "\n",
       "    .dataframe tbody tr th {\n",
       "        vertical-align: top;\n",
       "    }\n",
       "\n",
       "    .dataframe thead th {\n",
       "        text-align: right;\n",
       "    }\n",
       "</style>\n",
       "<table border=\"1\" class=\"dataframe\">\n",
       "  <thead>\n",
       "    <tr style=\"text-align: right;\">\n",
       "      <th></th>\n",
       "      <th>user_id</th>\n",
       "      <th>item_id</th>\n",
       "      <th>rating</th>\n",
       "    </tr>\n",
       "  </thead>\n",
       "  <tbody>\n",
       "    <tr>\n",
       "      <th>0</th>\n",
       "      <td>1</td>\n",
       "      <td>1</td>\n",
       "      <td>4.0</td>\n",
       "    </tr>\n",
       "    <tr>\n",
       "      <th>1</th>\n",
       "      <td>1</td>\n",
       "      <td>3</td>\n",
       "      <td>4.0</td>\n",
       "    </tr>\n",
       "    <tr>\n",
       "      <th>2</th>\n",
       "      <td>1</td>\n",
       "      <td>6</td>\n",
       "      <td>4.0</td>\n",
       "    </tr>\n",
       "    <tr>\n",
       "      <th>3</th>\n",
       "      <td>1</td>\n",
       "      <td>47</td>\n",
       "      <td>5.0</td>\n",
       "    </tr>\n",
       "    <tr>\n",
       "      <th>4</th>\n",
       "      <td>1</td>\n",
       "      <td>50</td>\n",
       "      <td>5.0</td>\n",
       "    </tr>\n",
       "    <tr>\n",
       "      <th>...</th>\n",
       "      <td>...</td>\n",
       "      <td>...</td>\n",
       "      <td>...</td>\n",
       "    </tr>\n",
       "    <tr>\n",
       "      <th>100831</th>\n",
       "      <td>610</td>\n",
       "      <td>166534</td>\n",
       "      <td>4.0</td>\n",
       "    </tr>\n",
       "    <tr>\n",
       "      <th>100832</th>\n",
       "      <td>610</td>\n",
       "      <td>168248</td>\n",
       "      <td>5.0</td>\n",
       "    </tr>\n",
       "    <tr>\n",
       "      <th>100833</th>\n",
       "      <td>610</td>\n",
       "      <td>168250</td>\n",
       "      <td>5.0</td>\n",
       "    </tr>\n",
       "    <tr>\n",
       "      <th>100834</th>\n",
       "      <td>610</td>\n",
       "      <td>168252</td>\n",
       "      <td>5.0</td>\n",
       "    </tr>\n",
       "    <tr>\n",
       "      <th>100835</th>\n",
       "      <td>610</td>\n",
       "      <td>170875</td>\n",
       "      <td>3.0</td>\n",
       "    </tr>\n",
       "  </tbody>\n",
       "</table>\n",
       "<p>100836 rows × 3 columns</p>\n",
       "</div>"
      ],
      "text/plain": [
       "        user_id  item_id  rating\n",
       "0             1        1     4.0\n",
       "1             1        3     4.0\n",
       "2             1        6     4.0\n",
       "3             1       47     5.0\n",
       "4             1       50     5.0\n",
       "...         ...      ...     ...\n",
       "100831      610   166534     4.0\n",
       "100832      610   168248     5.0\n",
       "100833      610   168250     5.0\n",
       "100834      610   168252     5.0\n",
       "100835      610   170875     3.0\n",
       "\n",
       "[100836 rows x 3 columns]"
      ]
     },
     "execution_count": 7,
     "metadata": {},
     "output_type": "execute_result"
    }
   ],
   "source": [
    "ratings = pd.read_csv('../data/movie_lens/ratings.csv',\n",
    "                      names=['user_id', 'item_id', 'rating', '_'],\n",
    "                      skiprows=1).drop(columns=['_'])\n",
    "ratings"
   ]
  },
  {
   "cell_type": "markdown",
   "id": "06fd3ed4",
   "metadata": {},
   "source": [
    "### remain data if rating>4 & convert explicit feedback to implicit feedback"
   ]
  },
  {
   "cell_type": "code",
   "execution_count": 8,
   "id": "d5635ebe",
   "metadata": {},
   "outputs": [
    {
     "data": {
      "text/html": [
       "<div>\n",
       "<style scoped>\n",
       "    .dataframe tbody tr th:only-of-type {\n",
       "        vertical-align: middle;\n",
       "    }\n",
       "\n",
       "    .dataframe tbody tr th {\n",
       "        vertical-align: top;\n",
       "    }\n",
       "\n",
       "    .dataframe thead th {\n",
       "        text-align: right;\n",
       "    }\n",
       "</style>\n",
       "<table border=\"1\" class=\"dataframe\">\n",
       "  <thead>\n",
       "    <tr style=\"text-align: right;\">\n",
       "      <th></th>\n",
       "      <th>user_id</th>\n",
       "      <th>item_id</th>\n",
       "      <th>rating</th>\n",
       "    </tr>\n",
       "  </thead>\n",
       "  <tbody>\n",
       "    <tr>\n",
       "      <th>0</th>\n",
       "      <td>1</td>\n",
       "      <td>1</td>\n",
       "      <td>1.0</td>\n",
       "    </tr>\n",
       "    <tr>\n",
       "      <th>1</th>\n",
       "      <td>1</td>\n",
       "      <td>3</td>\n",
       "      <td>1.0</td>\n",
       "    </tr>\n",
       "    <tr>\n",
       "      <th>2</th>\n",
       "      <td>1</td>\n",
       "      <td>6</td>\n",
       "      <td>1.0</td>\n",
       "    </tr>\n",
       "    <tr>\n",
       "      <th>3</th>\n",
       "      <td>1</td>\n",
       "      <td>47</td>\n",
       "      <td>1.0</td>\n",
       "    </tr>\n",
       "    <tr>\n",
       "      <th>4</th>\n",
       "      <td>1</td>\n",
       "      <td>50</td>\n",
       "      <td>1.0</td>\n",
       "    </tr>\n",
       "    <tr>\n",
       "      <th>...</th>\n",
       "      <td>...</td>\n",
       "      <td>...</td>\n",
       "      <td>...</td>\n",
       "    </tr>\n",
       "    <tr>\n",
       "      <th>100830</th>\n",
       "      <td>610</td>\n",
       "      <td>166528</td>\n",
       "      <td>1.0</td>\n",
       "    </tr>\n",
       "    <tr>\n",
       "      <th>100831</th>\n",
       "      <td>610</td>\n",
       "      <td>166534</td>\n",
       "      <td>1.0</td>\n",
       "    </tr>\n",
       "    <tr>\n",
       "      <th>100832</th>\n",
       "      <td>610</td>\n",
       "      <td>168248</td>\n",
       "      <td>1.0</td>\n",
       "    </tr>\n",
       "    <tr>\n",
       "      <th>100833</th>\n",
       "      <td>610</td>\n",
       "      <td>168250</td>\n",
       "      <td>1.0</td>\n",
       "    </tr>\n",
       "    <tr>\n",
       "      <th>100834</th>\n",
       "      <td>610</td>\n",
       "      <td>168252</td>\n",
       "      <td>1.0</td>\n",
       "    </tr>\n",
       "  </tbody>\n",
       "</table>\n",
       "<p>48580 rows × 3 columns</p>\n",
       "</div>"
      ],
      "text/plain": [
       "        user_id  item_id  rating\n",
       "0             1        1     1.0\n",
       "1             1        3     1.0\n",
       "2             1        6     1.0\n",
       "3             1       47     1.0\n",
       "4             1       50     1.0\n",
       "...         ...      ...     ...\n",
       "100830      610   166528     1.0\n",
       "100831      610   166534     1.0\n",
       "100832      610   168248     1.0\n",
       "100833      610   168250     1.0\n",
       "100834      610   168252     1.0\n",
       "\n",
       "[48580 rows x 3 columns]"
      ]
     },
     "execution_count": 8,
     "metadata": {},
     "output_type": "execute_result"
    }
   ],
   "source": [
    "is_upper_thr = ratings['rating'] >= 4\n",
    "remain_idx = is_upper_thr[is_upper_thr==True].index\n",
    "ratings = ratings.loc[ratings.index.isin(remain_idx)==True]\n",
    "ratings['rating'].values.fill(1)\n",
    "ratings"
   ]
  },
  {
   "cell_type": "markdown",
   "id": "e4d27f87",
   "metadata": {},
   "source": [
    "### remain data if count>5 per items, users"
   ]
  },
  {
   "cell_type": "code",
   "execution_count": 10,
   "id": "270204e3",
   "metadata": {},
   "outputs": [
    {
     "data": {
      "text/html": [
       "<div>\n",
       "<style scoped>\n",
       "    .dataframe tbody tr th:only-of-type {\n",
       "        vertical-align: middle;\n",
       "    }\n",
       "\n",
       "    .dataframe tbody tr th {\n",
       "        vertical-align: top;\n",
       "    }\n",
       "\n",
       "    .dataframe thead th {\n",
       "        text-align: right;\n",
       "    }\n",
       "</style>\n",
       "<table border=\"1\" class=\"dataframe\">\n",
       "  <thead>\n",
       "    <tr style=\"text-align: right;\">\n",
       "      <th></th>\n",
       "      <th>user_id</th>\n",
       "      <th>item_id</th>\n",
       "      <th>rating</th>\n",
       "    </tr>\n",
       "  </thead>\n",
       "  <tbody>\n",
       "    <tr>\n",
       "      <th>0</th>\n",
       "      <td>1</td>\n",
       "      <td>1</td>\n",
       "      <td>1.0</td>\n",
       "    </tr>\n",
       "    <tr>\n",
       "      <th>1</th>\n",
       "      <td>1</td>\n",
       "      <td>3</td>\n",
       "      <td>1.0</td>\n",
       "    </tr>\n",
       "    <tr>\n",
       "      <th>2</th>\n",
       "      <td>1</td>\n",
       "      <td>6</td>\n",
       "      <td>1.0</td>\n",
       "    </tr>\n",
       "    <tr>\n",
       "      <th>3</th>\n",
       "      <td>1</td>\n",
       "      <td>47</td>\n",
       "      <td>1.0</td>\n",
       "    </tr>\n",
       "    <tr>\n",
       "      <th>4</th>\n",
       "      <td>1</td>\n",
       "      <td>50</td>\n",
       "      <td>1.0</td>\n",
       "    </tr>\n",
       "    <tr>\n",
       "      <th>...</th>\n",
       "      <td>...</td>\n",
       "      <td>...</td>\n",
       "      <td>...</td>\n",
       "    </tr>\n",
       "    <tr>\n",
       "      <th>100829</th>\n",
       "      <td>610</td>\n",
       "      <td>164179</td>\n",
       "      <td>1.0</td>\n",
       "    </tr>\n",
       "    <tr>\n",
       "      <th>100830</th>\n",
       "      <td>610</td>\n",
       "      <td>166528</td>\n",
       "      <td>1.0</td>\n",
       "    </tr>\n",
       "    <tr>\n",
       "      <th>100832</th>\n",
       "      <td>610</td>\n",
       "      <td>168248</td>\n",
       "      <td>1.0</td>\n",
       "    </tr>\n",
       "    <tr>\n",
       "      <th>100833</th>\n",
       "      <td>610</td>\n",
       "      <td>168250</td>\n",
       "      <td>1.0</td>\n",
       "    </tr>\n",
       "    <tr>\n",
       "      <th>100834</th>\n",
       "      <td>610</td>\n",
       "      <td>168252</td>\n",
       "      <td>1.0</td>\n",
       "    </tr>\n",
       "  </tbody>\n",
       "</table>\n",
       "<p>41227 rows × 3 columns</p>\n",
       "</div>"
      ],
      "text/plain": [
       "        user_id  item_id  rating\n",
       "0             1        1     1.0\n",
       "1             1        3     1.0\n",
       "2             1        6     1.0\n",
       "3             1       47     1.0\n",
       "4             1       50     1.0\n",
       "...         ...      ...     ...\n",
       "100829      610   164179     1.0\n",
       "100830      610   166528     1.0\n",
       "100832      610   168248     1.0\n",
       "100833      610   168250     1.0\n",
       "100834      610   168252     1.0\n",
       "\n",
       "[41227 rows x 3 columns]"
      ]
     },
     "execution_count": 10,
     "metadata": {},
     "output_type": "execute_result"
    }
   ],
   "source": [
    "while True:\n",
    "    if (min(ratings.groupby('item_id').count()['user_id']) >= 5) and\\\n",
    "       (min(ratings.groupby('user_id').count()['item_id']) >= 5):\n",
    "        break\n",
    "\n",
    "    lower_item_per_user = ratings.groupby('user_id').count()['item_id']<5\n",
    "    remove_user_ids = lower_item_per_user[lower_item_per_user==True].index\n",
    "    ratings = ratings[ratings.user_id.isin(remove_user_ids)==False]\n",
    "\n",
    "    lower_user_per_item = ratings.groupby('item_id').count()['user_id']<5\n",
    "    remove_item_ids = lower_user_per_item[lower_user_per_item==True].index\n",
    "    ratings = ratings[ratings.item_id.isin(remove_item_ids)==False]\n",
    "    \n",
    "ratings"
   ]
  },
  {
   "cell_type": "markdown",
   "id": "9f2261fd",
   "metadata": {},
   "source": [
    "### conver id to index"
   ]
  },
  {
   "cell_type": "code",
   "execution_count": 11,
   "id": "b02aa04c",
   "metadata": {},
   "outputs": [
    {
     "data": {
      "text/html": [
       "<div>\n",
       "<style scoped>\n",
       "    .dataframe tbody tr th:only-of-type {\n",
       "        vertical-align: middle;\n",
       "    }\n",
       "\n",
       "    .dataframe tbody tr th {\n",
       "        vertical-align: top;\n",
       "    }\n",
       "\n",
       "    .dataframe thead th {\n",
       "        text-align: right;\n",
       "    }\n",
       "</style>\n",
       "<table border=\"1\" class=\"dataframe\">\n",
       "  <thead>\n",
       "    <tr style=\"text-align: right;\">\n",
       "      <th></th>\n",
       "      <th>user_id</th>\n",
       "      <th>item_id</th>\n",
       "      <th>rating</th>\n",
       "    </tr>\n",
       "  </thead>\n",
       "  <tbody>\n",
       "    <tr>\n",
       "      <th>0</th>\n",
       "      <td>0</td>\n",
       "      <td>0</td>\n",
       "      <td>1.0</td>\n",
       "    </tr>\n",
       "    <tr>\n",
       "      <th>1</th>\n",
       "      <td>0</td>\n",
       "      <td>1</td>\n",
       "      <td>1.0</td>\n",
       "    </tr>\n",
       "    <tr>\n",
       "      <th>2</th>\n",
       "      <td>0</td>\n",
       "      <td>2</td>\n",
       "      <td>1.0</td>\n",
       "    </tr>\n",
       "    <tr>\n",
       "      <th>3</th>\n",
       "      <td>0</td>\n",
       "      <td>3</td>\n",
       "      <td>1.0</td>\n",
       "    </tr>\n",
       "    <tr>\n",
       "      <th>4</th>\n",
       "      <td>0</td>\n",
       "      <td>4</td>\n",
       "      <td>1.0</td>\n",
       "    </tr>\n",
       "    <tr>\n",
       "      <th>...</th>\n",
       "      <td>...</td>\n",
       "      <td>...</td>\n",
       "      <td>...</td>\n",
       "    </tr>\n",
       "    <tr>\n",
       "      <th>100829</th>\n",
       "      <td>600</td>\n",
       "      <td>833</td>\n",
       "      <td>1.0</td>\n",
       "    </tr>\n",
       "    <tr>\n",
       "      <th>100830</th>\n",
       "      <td>600</td>\n",
       "      <td>531</td>\n",
       "      <td>1.0</td>\n",
       "    </tr>\n",
       "    <tr>\n",
       "      <th>100832</th>\n",
       "      <td>600</td>\n",
       "      <td>1357</td>\n",
       "      <td>1.0</td>\n",
       "    </tr>\n",
       "    <tr>\n",
       "      <th>100833</th>\n",
       "      <td>600</td>\n",
       "      <td>1358</td>\n",
       "      <td>1.0</td>\n",
       "    </tr>\n",
       "    <tr>\n",
       "      <th>100834</th>\n",
       "      <td>600</td>\n",
       "      <td>693</td>\n",
       "      <td>1.0</td>\n",
       "    </tr>\n",
       "  </tbody>\n",
       "</table>\n",
       "<p>41227 rows × 3 columns</p>\n",
       "</div>"
      ],
      "text/plain": [
       "        user_id  item_id  rating\n",
       "0             0        0     1.0\n",
       "1             0        1     1.0\n",
       "2             0        2     1.0\n",
       "3             0        3     1.0\n",
       "4             0        4     1.0\n",
       "...         ...      ...     ...\n",
       "100829      600      833     1.0\n",
       "100830      600      531     1.0\n",
       "100832      600     1357     1.0\n",
       "100833      600     1358     1.0\n",
       "100834      600      693     1.0\n",
       "\n",
       "[41227 rows x 3 columns]"
      ]
     },
     "execution_count": 11,
     "metadata": {},
     "output_type": "execute_result"
    }
   ],
   "source": [
    "user_ids = ratings['user_id'].unique().tolist()\n",
    "item_ids = ratings['item_id'].unique().tolist()\n",
    "\n",
    "num_user = len(user_ids)\n",
    "num_item = len(item_ids)\n",
    "\n",
    "id_to_index_user = {user_ids[i] :i for i in range(num_user)}\n",
    "id_to_index_item = {item_ids[i] :i for i in range(num_item)}\n",
    "\n",
    "ratings['user_id'] = ratings['user_id'].apply(lambda x: id_to_index_user[x])\n",
    "ratings['item_id'] = ratings['item_id'].apply(lambda x: id_to_index_item[x])\n",
    "\n",
    "ratings"
   ]
  },
  {
   "cell_type": "markdown",
   "id": "5dd3d756",
   "metadata": {},
   "source": [
    "### split data"
   ]
  },
  {
   "cell_type": "code",
   "execution_count": 12,
   "id": "7d9eb62c",
   "metadata": {},
   "outputs": [
    {
     "name": "stdout",
     "output_type": "stream",
     "text": [
      "# of observation(train/val/test): 28858, 4123, 8246\n"
     ]
    }
   ],
   "source": [
    "val_ratio = 0.1\n",
    "test_ratio = 0.2\n",
    "seed = 1234\n",
    "\n",
    "train, others = train_test_split(ratings,\n",
    "                                 test_size=val_ratio+test_ratio,\n",
    "                                 shuffle=True,\n",
    "                                 random_state=seed)\n",
    "\n",
    "validation, test = train_test_split(others,\n",
    "                                    test_size=test_ratio/(val_ratio+test_ratio),\n",
    "                                    shuffle=True,\n",
    "                                    random_state=seed)\n",
    "\n",
    "print(f\"# of observation(train/val/test): {len(train)}, {len(validation)}, {len(test)}\")"
   ]
  },
  {
   "cell_type": "markdown",
   "id": "0088f8ac",
   "metadata": {},
   "source": [
    "### set config & get dataset from generator"
   ]
  },
  {
   "cell_type": "code",
   "execution_count": 36,
   "id": "ad37faa4",
   "metadata": {},
   "outputs": [],
   "source": [
    "class DatasetConfig:\n",
    "    num_negative = 5\n",
    "    between_observed= False\n",
    "    batch = 128\n",
    "\n",
    "dataset_config = DatasetConfig()"
   ]
  },
  {
   "cell_type": "code",
   "execution_count": 37,
   "id": "d1ad0b9c",
   "metadata": {},
   "outputs": [],
   "source": [
    "dataset = MatrixGenerator(train_data=train,\n",
    "                          n_user=num_user,\n",
    "                          n_item=num_item,\n",
    "                          config=dataset_config)"
   ]
  },
  {
   "cell_type": "markdown",
   "id": "ee2e57f7",
   "metadata": {},
   "source": [
    "### see example data for a batch"
   ]
  },
  {
   "cell_type": "code",
   "execution_count": 38,
   "id": "71d67337",
   "metadata": {},
   "outputs": [],
   "source": [
    "train_loader = DataLoader(dataset, batch_size=2)\n",
    "data1, data2, data3 = next(iter(train_loader))"
   ]
  },
  {
   "cell_type": "markdown",
   "id": "750600a6",
   "metadata": {},
   "source": [
    "(1) [user id X batch_size]"
   ]
  },
  {
   "cell_type": "code",
   "execution_count": 39,
   "id": "c2f13e3a",
   "metadata": {},
   "outputs": [
    {
     "data": {
      "text/plain": [
       "tensor([0, 1])"
      ]
     },
     "execution_count": 39,
     "metadata": {},
     "output_type": "execute_result"
    }
   ],
   "source": [
    "data1"
   ]
  },
  {
   "cell_type": "markdown",
   "id": "9b2364cc",
   "metadata": {},
   "source": [
    "(2) [ [$rating_{u,1}$, ..., $rating_{u, m}$] X batch_size]"
   ]
  },
  {
   "cell_type": "code",
   "execution_count": 40,
   "id": "5b173ac0",
   "metadata": {},
   "outputs": [
    {
     "data": {
      "text/plain": [
       "tensor([[1., 1., 1.,  ..., 0., 0., 0.],\n",
       "        [0., 0., 0.,  ..., 0., 0., 0.]])"
      ]
     },
     "execution_count": 40,
     "metadata": {},
     "output_type": "execute_result"
    }
   ],
   "source": [
    "data2"
   ]
  },
  {
   "cell_type": "markdown",
   "id": "38b17324",
   "metadata": {},
   "source": [
    "(3) [ [$implicit_{u,1}$, ..., $implicit_{u, m}$] X batch_size]"
   ]
  },
  {
   "cell_type": "code",
   "execution_count": 41,
   "id": "6a8d7af9",
   "metadata": {},
   "outputs": [
    {
     "data": {
      "text/plain": [
       "tensor([[1., 1., 1.,  ..., 0., 0., 0.],\n",
       "        [0., 0., 0.,  ..., 0., 0., 0.]])"
      ]
     },
     "execution_count": 41,
     "metadata": {},
     "output_type": "execute_result"
    }
   ],
   "source": [
    "data3"
   ]
  },
  {
   "cell_type": "markdown",
   "id": "8e767ae7",
   "metadata": {},
   "source": [
    "***"
   ]
  },
  {
   "cell_type": "markdown",
   "id": "15f438e8",
   "metadata": {},
   "source": [
    "## 2) Modeling"
   ]
  },
  {
   "cell_type": "markdown",
   "id": "865f7ffc",
   "metadata": {},
   "source": [
    "### set config & get model"
   ]
  },
  {
   "cell_type": "code",
   "execution_count": 42,
   "id": "335fc57a",
   "metadata": {},
   "outputs": [],
   "source": [
    "class OptimizerConfig:\n",
    "    method = 'Adam'\n",
    "    regulation = 1e-5\n",
    "    learning_rate = 0.01\n",
    "    learning_decay = 0.95\n",
    "\n",
    "class ModelConfig:\n",
    "    epochs = 50\n",
    "    print_step = 5\n",
    "\n",
    "class CDAEConfig:\n",
    "    evaluation = 'MAP'\n",
    "    k = 10\n",
    "    dim_latent = 300\n",
    "    corrupt_ratio = 0.6\n",
    "\n",
    "optimizer_config = OptimizerConfig()\n",
    "cdae_config = CDAEConfig()\n",
    "model_config = ModelConfig()"
   ]
  },
  {
   "cell_type": "code",
   "execution_count": 43,
   "id": "f2838391",
   "metadata": {},
   "outputs": [
    {
     "name": "stdout",
     "output_type": "stream",
     "text": [
      "[BaseModel] method = Adam\n",
      "[BaseModel] regulation = 1e-05\n",
      "[BaseModel] learning_rate = 0.01\n",
      "[BaseModel] learning_rate_decay = 0.95\n"
     ]
    }
   ],
   "source": [
    "inputs = {\"n_user\":num_user,\n",
    "          \"n_item\":num_item}\n",
    "\n",
    "model = CDAE(inputs, model_config, optimizer_config, cdae_config)"
   ]
  },
  {
   "cell_type": "markdown",
   "id": "76cd4b45",
   "metadata": {},
   "source": [
    "### fit model & see loss and performance"
   ]
  },
  {
   "cell_type": "code",
   "execution_count": 44,
   "id": "d3da4358",
   "metadata": {},
   "outputs": [
    {
     "name": "stdout",
     "output_type": "stream",
     "text": [
      "\n",
      "[CDAE]============================================== Train ===============================================\n",
      "[CDAE]              (train: BCE)        (validation: MAP)   \n",
      "          (epoch 5) 0.0033              0.1005              \n",
      "         (epoch 10) 0.0037              0.0817              \n",
      "         (epoch 15) 0.0038              0.0906              \n",
      "         (epoch 20) 0.0039              0.0936              \n",
      "         (epoch 25) 0.0039              0.0942              \n",
      "         (epoch 30) 0.0039              0.0903              \n",
      "         (epoch 35) 0.0039              0.0944              \n",
      "         (epoch 40) 0.0039              0.1038              \n",
      "         (epoch 45) 0.0039              0.1054              \n",
      "         (epoch 50) 0.0039              0.0976              \n"
     ]
    }
   ],
   "source": [
    "train_loader = DataLoader(dataset, batch_size=dataset_config.batch)\n",
    "model.fit(train_loader=train_loader, val_data=validation)"
   ]
  },
  {
   "cell_type": "markdown",
   "id": "be8f1121",
   "metadata": {},
   "source": [
    "***"
   ]
  },
  {
   "cell_type": "markdown",
   "id": "a4f8a317",
   "metadata": {},
   "source": [
    "## 3) Evaluation"
   ]
  },
  {
   "cell_type": "markdown",
   "id": "4c26aafd",
   "metadata": {},
   "source": [
    "### evaluate testset"
   ]
  },
  {
   "cell_type": "code",
   "execution_count": 45,
   "id": "9a753d39",
   "metadata": {},
   "outputs": [
    {
     "name": "stdout",
     "output_type": "stream",
     "text": [
      "\n",
      "[CDAE]============================================= Evaluate =============================================\n",
      "[CDAE] (test: MAP) = 0.1370\n"
     ]
    }
   ],
   "source": [
    "model.test(train_loader=train_loader, test_data=test)"
   ]
  },
  {
   "cell_type": "markdown",
   "id": "4bd4f4ce",
   "metadata": {},
   "source": [
    "### see plot for loss and performance"
   ]
  },
  {
   "cell_type": "code",
   "execution_count": 46,
   "id": "6a8eaacd",
   "metadata": {},
   "outputs": [
    {
     "data": {
      "image/png": "[encoded data removed]",
      "text/plain": [
       "<Figure size 864x288 with 2 Axes>"
      ]
     },
     "metadata": {
      "needs_background": "light"
     },
     "output_type": "display_data"
    }
   ],
   "source": [
    "figure = model.draw_plot()\n",
    "plt.show()"
   ]
  }
 ],
 "metadata": {
  "kernelspec": {
   "display_name": "reco_sys",
   "language": "python",
   "name": "reco_sys"
  },
  "language_info": {
   "codemirror_mode": {
    "name": "ipython",
    "version": 3
   },
   "file_extension": ".py",
   "mimetype": "text/x-python",
   "name": "python",
   "nbconvert_exporter": "python",
   "pygments_lexer": "ipython3",
   "version": "3.7.13"
  }
 },
 "nbformat": 4,
 "nbformat_minor": 5
}
