{
 "cells": [
  {
   "cell_type": "markdown",
   "id": "ab6c39fd",
   "metadata": {},
   "source": [
    "***"
   ]
  },
  {
   "cell_type": "markdown",
   "id": "98da462f",
   "metadata": {},
   "source": [
    "# SVD++\n",
    "- 사용자, 아이템의 편향과 잠재요인의 교호작용을 추정하여 평점을 예측하는 행렬분해기법 SVD에 더하여, implicit feedback과 같은 추가적인 정보를 고려한 기법\n",
    "\n",
    "### - Reference : [Recommender Systems Handbook, p153-154](https://link.springer.com/book/10.1007/978-0-387-85820-3)\n",
    "\n",
    "### - Prediction:\n",
    "평점 $r_{ui}$에 대해서 아래와 같이 잠재 요인 행렬 P, Q와 bias term으로 분해하는 것을 목표로 함\n",
    "\n",
    "<center>$ \\hat{r_{ui}} = \\mu + b_i + b_u + q_i^T(p_u+|R(u)|^{-0.5}\\sum_{j\\in R(u)}y_j) $</center>\n",
    "\n",
    "|expression|mean|\n",
    "|:---:|:---:|\n",
    "|$ r_{ui}$|사용자 $u$의 아이템 $i$에 대한 평점|\n",
    "|$\\mu$|전체 평점의 평균|\n",
    "|$b_i$|사용자 $u$의 편향|\n",
    "|$b_u$|아이템 $i$의 편향|\n",
    "|$q_i$|아이템 $i$의 잠재요인 벡터|\n",
    "|$p_u$|사용자 $u$의 잠재요인 벡터|\n",
    "|$\\sum_{j\\in R(u)}y_j$|사용자 u가 선호한 아이템들의 대한 선호 벡터 합|\n",
    "|$n$|사용자 수|\n",
    "|$m$|아이템 수|\n",
    "|$k$|잠재 요인 갯수|\n",
    "\n",
    "### - Optimization:\n",
    "관측된 평점에 대하여, 아래와 같은 목적함수를 최소화하는 minima를 찾음으로써 파라미터를 추정함\n",
    "<center >$\\min_{b_*, p_*, q_*}\\sum_{(u,i)\\in\\kappa}(r_{ui}-\\mu-b_i-b_u-q_i^T(p_u+|R(u)|^{-0.5}\\sum_{j\\in R(u)}y_j))^2$</center>\n",
    "<center>$ + \\lambda(b_i^2+b_u^2+||q_i||^2+||p_u||^2+||y_{j\\in R(u)}||^2)$ </center>\n",
    "\n",
    "|expression|mean|\n",
    "|:----------:|:---:|\n",
    "|$\\lambda$|규제항 상수|\n",
    "\n",
    "### - Evaluation:\n",
    "|split|measure|\n",
    "|:---:|:---:|\n",
    "|holdout|RMSE|"
   ]
  },
  {
   "cell_type": "markdown",
   "id": "e3adb3b7",
   "metadata": {},
   "source": [
    "***"
   ]
  },
  {
   "cell_type": "markdown",
   "id": "926902a4",
   "metadata": {},
   "source": [
    "## 0) Import library"
   ]
  },
  {
   "cell_type": "code",
   "execution_count": 14,
   "id": "f74957a3",
   "metadata": {},
   "outputs": [],
   "source": [
    "import os\n",
    "import sys\n",
    "sys.path.append(os.path.dirname(os.path.abspath(os.getcwd())))\n",
    "\n",
    "from Generator.PointwiseGenerator import PointwiseGenerator\n",
    "from Models.SVDpp import SVDpp\n",
    "\n",
    "import pandas as pd\n",
    "import numpy as np\n",
    "import random\n",
    "from sklearn.model_selection import train_test_split\n",
    "from torch.utils.data import DataLoader\n",
    "import matplotlib.pyplot as plt"
   ]
  },
  {
   "cell_type": "markdown",
   "id": "2fccd87d",
   "metadata": {},
   "source": [
    "***"
   ]
  },
  {
   "cell_type": "markdown",
   "id": "aeb91c3c",
   "metadata": {},
   "source": [
    "## 1) Data processing"
   ]
  },
  {
   "cell_type": "markdown",
   "id": "16aec99f",
   "metadata": {},
   "source": [
    "### load data"
   ]
  },
  {
   "cell_type": "code",
   "execution_count": 2,
   "id": "5e6ab148",
   "metadata": {},
   "outputs": [
    {
     "data": {
      "text/html": [
       "<div>\n",
       "<style scoped>\n",
       "    .dataframe tbody tr th:only-of-type {\n",
       "        vertical-align: middle;\n",
       "    }\n",
       "\n",
       "    .dataframe tbody tr th {\n",
       "        vertical-align: top;\n",
       "    }\n",
       "\n",
       "    .dataframe thead th {\n",
       "        text-align: right;\n",
       "    }\n",
       "</style>\n",
       "<table border=\"1\" class=\"dataframe\">\n",
       "  <thead>\n",
       "    <tr style=\"text-align: right;\">\n",
       "      <th></th>\n",
       "      <th>user_id</th>\n",
       "      <th>item_id</th>\n",
       "      <th>rating</th>\n",
       "    </tr>\n",
       "  </thead>\n",
       "  <tbody>\n",
       "    <tr>\n",
       "      <th>0</th>\n",
       "      <td>1</td>\n",
       "      <td>1</td>\n",
       "      <td>4.0</td>\n",
       "    </tr>\n",
       "    <tr>\n",
       "      <th>1</th>\n",
       "      <td>1</td>\n",
       "      <td>3</td>\n",
       "      <td>4.0</td>\n",
       "    </tr>\n",
       "    <tr>\n",
       "      <th>2</th>\n",
       "      <td>1</td>\n",
       "      <td>6</td>\n",
       "      <td>4.0</td>\n",
       "    </tr>\n",
       "    <tr>\n",
       "      <th>3</th>\n",
       "      <td>1</td>\n",
       "      <td>47</td>\n",
       "      <td>5.0</td>\n",
       "    </tr>\n",
       "    <tr>\n",
       "      <th>4</th>\n",
       "      <td>1</td>\n",
       "      <td>50</td>\n",
       "      <td>5.0</td>\n",
       "    </tr>\n",
       "    <tr>\n",
       "      <th>...</th>\n",
       "      <td>...</td>\n",
       "      <td>...</td>\n",
       "      <td>...</td>\n",
       "    </tr>\n",
       "    <tr>\n",
       "      <th>100831</th>\n",
       "      <td>610</td>\n",
       "      <td>166534</td>\n",
       "      <td>4.0</td>\n",
       "    </tr>\n",
       "    <tr>\n",
       "      <th>100832</th>\n",
       "      <td>610</td>\n",
       "      <td>168248</td>\n",
       "      <td>5.0</td>\n",
       "    </tr>\n",
       "    <tr>\n",
       "      <th>100833</th>\n",
       "      <td>610</td>\n",
       "      <td>168250</td>\n",
       "      <td>5.0</td>\n",
       "    </tr>\n",
       "    <tr>\n",
       "      <th>100834</th>\n",
       "      <td>610</td>\n",
       "      <td>168252</td>\n",
       "      <td>5.0</td>\n",
       "    </tr>\n",
       "    <tr>\n",
       "      <th>100835</th>\n",
       "      <td>610</td>\n",
       "      <td>170875</td>\n",
       "      <td>3.0</td>\n",
       "    </tr>\n",
       "  </tbody>\n",
       "</table>\n",
       "<p>100836 rows × 3 columns</p>\n",
       "</div>"
      ],
      "text/plain": [
       "        user_id  item_id  rating\n",
       "0             1        1     4.0\n",
       "1             1        3     4.0\n",
       "2             1        6     4.0\n",
       "3             1       47     5.0\n",
       "4             1       50     5.0\n",
       "...         ...      ...     ...\n",
       "100831      610   166534     4.0\n",
       "100832      610   168248     5.0\n",
       "100833      610   168250     5.0\n",
       "100834      610   168252     5.0\n",
       "100835      610   170875     3.0\n",
       "\n",
       "[100836 rows x 3 columns]"
      ]
     },
     "execution_count": 2,
     "metadata": {},
     "output_type": "execute_result"
    }
   ],
   "source": [
    "ratings = pd.read_csv('../data/movie_lens/ratings.csv',\n",
    "                      names=['user_id', 'item_id', 'rating', '_'],\n",
    "                      skiprows=1).drop(columns=['_'])\n",
    "ratings"
   ]
  },
  {
   "cell_type": "markdown",
   "id": "42f48d41",
   "metadata": {},
   "source": [
    "### convert id to index"
   ]
  },
  {
   "cell_type": "code",
   "execution_count": 3,
   "id": "5757a6da",
   "metadata": {},
   "outputs": [
    {
     "data": {
      "text/html": [
       "<div>\n",
       "<style scoped>\n",
       "    .dataframe tbody tr th:only-of-type {\n",
       "        vertical-align: middle;\n",
       "    }\n",
       "\n",
       "    .dataframe tbody tr th {\n",
       "        vertical-align: top;\n",
       "    }\n",
       "\n",
       "    .dataframe thead th {\n",
       "        text-align: right;\n",
       "    }\n",
       "</style>\n",
       "<table border=\"1\" class=\"dataframe\">\n",
       "  <thead>\n",
       "    <tr style=\"text-align: right;\">\n",
       "      <th></th>\n",
       "      <th>user_id</th>\n",
       "      <th>item_id</th>\n",
       "      <th>rating</th>\n",
       "    </tr>\n",
       "  </thead>\n",
       "  <tbody>\n",
       "    <tr>\n",
       "      <th>0</th>\n",
       "      <td>0</td>\n",
       "      <td>0</td>\n",
       "      <td>4.0</td>\n",
       "    </tr>\n",
       "    <tr>\n",
       "      <th>1</th>\n",
       "      <td>0</td>\n",
       "      <td>1</td>\n",
       "      <td>4.0</td>\n",
       "    </tr>\n",
       "    <tr>\n",
       "      <th>2</th>\n",
       "      <td>0</td>\n",
       "      <td>2</td>\n",
       "      <td>4.0</td>\n",
       "    </tr>\n",
       "    <tr>\n",
       "      <th>3</th>\n",
       "      <td>0</td>\n",
       "      <td>3</td>\n",
       "      <td>5.0</td>\n",
       "    </tr>\n",
       "    <tr>\n",
       "      <th>4</th>\n",
       "      <td>0</td>\n",
       "      <td>4</td>\n",
       "      <td>5.0</td>\n",
       "    </tr>\n",
       "    <tr>\n",
       "      <th>...</th>\n",
       "      <td>...</td>\n",
       "      <td>...</td>\n",
       "      <td>...</td>\n",
       "    </tr>\n",
       "    <tr>\n",
       "      <th>100831</th>\n",
       "      <td>609</td>\n",
       "      <td>3120</td>\n",
       "      <td>4.0</td>\n",
       "    </tr>\n",
       "    <tr>\n",
       "      <th>100832</th>\n",
       "      <td>609</td>\n",
       "      <td>2035</td>\n",
       "      <td>5.0</td>\n",
       "    </tr>\n",
       "    <tr>\n",
       "      <th>100833</th>\n",
       "      <td>609</td>\n",
       "      <td>3121</td>\n",
       "      <td>5.0</td>\n",
       "    </tr>\n",
       "    <tr>\n",
       "      <th>100834</th>\n",
       "      <td>609</td>\n",
       "      <td>1392</td>\n",
       "      <td>5.0</td>\n",
       "    </tr>\n",
       "    <tr>\n",
       "      <th>100835</th>\n",
       "      <td>609</td>\n",
       "      <td>2873</td>\n",
       "      <td>3.0</td>\n",
       "    </tr>\n",
       "  </tbody>\n",
       "</table>\n",
       "<p>100836 rows × 3 columns</p>\n",
       "</div>"
      ],
      "text/plain": [
       "        user_id  item_id  rating\n",
       "0             0        0     4.0\n",
       "1             0        1     4.0\n",
       "2             0        2     4.0\n",
       "3             0        3     5.0\n",
       "4             0        4     5.0\n",
       "...         ...      ...     ...\n",
       "100831      609     3120     4.0\n",
       "100832      609     2035     5.0\n",
       "100833      609     3121     5.0\n",
       "100834      609     1392     5.0\n",
       "100835      609     2873     3.0\n",
       "\n",
       "[100836 rows x 3 columns]"
      ]
     },
     "execution_count": 3,
     "metadata": {},
     "output_type": "execute_result"
    }
   ],
   "source": [
    "user_ids = ratings['user_id'].unique().tolist()\n",
    "item_ids = ratings['item_id'].unique().tolist()\n",
    "\n",
    "num_user = len(user_ids)\n",
    "num_item = len(item_ids)\n",
    "\n",
    "id_to_index_user = {user_ids[i] :i for i in range(num_user)}\n",
    "id_to_index_item = {item_ids[i] :i for i in range(num_item)}\n",
    "\n",
    "ratings['user_id'] = ratings['user_id'].apply(lambda x: id_to_index_user[x])\n",
    "ratings['item_id'] = ratings['item_id'].apply(lambda x: id_to_index_item[x])\n",
    "\n",
    "ratings"
   ]
  },
  {
   "cell_type": "markdown",
   "id": "9a86ad57",
   "metadata": {},
   "source": [
    "### split data"
   ]
  },
  {
   "cell_type": "code",
   "execution_count": 4,
   "id": "13fcb9d1",
   "metadata": {},
   "outputs": [
    {
     "name": "stdout",
     "output_type": "stream",
     "text": [
      "# of observation(train/val/test): 70585, 10083, 20168\n"
     ]
    }
   ],
   "source": [
    "val_ratio = 0.1\n",
    "test_ratio = 0.2\n",
    "seed = 1234\n",
    "\n",
    "train, others = train_test_split(ratings,\n",
    "                                 test_size=val_ratio+test_ratio,\n",
    "                                 shuffle=True,\n",
    "                                 random_state=seed)\n",
    "\n",
    "validation, test = train_test_split(others,\n",
    "                                    test_size=test_ratio/(val_ratio+test_ratio),\n",
    "                                    shuffle=True,\n",
    "                                    random_state=seed)\n",
    "\n",
    "print(f\"# of observation(train/val/test): {len(train)}, {len(validation)}, {len(test)}\")"
   ]
  },
  {
   "cell_type": "markdown",
   "id": "3a4b270a",
   "metadata": {},
   "source": [
    "### set config & get dataset from generator"
   ]
  },
  {
   "cell_type": "code",
   "execution_count": 5,
   "id": "3e7c6311",
   "metadata": {},
   "outputs": [],
   "source": [
    "class DatasetConfig:\n",
    "    num_negative = 0\n",
    "    batch = 128\n",
    "\n",
    "dataset_config = DatasetConfig()"
   ]
  },
  {
   "cell_type": "code",
   "execution_count": 6,
   "id": "16921731",
   "metadata": {},
   "outputs": [],
   "source": [
    "dataset = PointwiseGenerator(train_data=train,\n",
    "                             n_user=num_user,\n",
    "                             n_item=num_item,\n",
    "                             config=dataset_config)"
   ]
  },
  {
   "cell_type": "markdown",
   "id": "70f27fad",
   "metadata": {},
   "source": [
    "### see example data for a batch"
   ]
  },
  {
   "cell_type": "code",
   "execution_count": 17,
   "id": "4a10dfc0",
   "metadata": {},
   "outputs": [],
   "source": [
    "train_loader = DataLoader(dataset, batch_size=2)\n",
    "data1, data2, data3, data4 = next(iter(train_loader))"
   ]
  },
  {
   "cell_type": "markdown",
   "id": "ecd07a09",
   "metadata": {},
   "source": [
    "(1) [user id X batch_size]"
   ]
  },
  {
   "cell_type": "code",
   "execution_count": 18,
   "id": "7c70c37c",
   "metadata": {},
   "outputs": [
    {
     "data": {
      "text/plain": [
       "tensor([598, 523])"
      ]
     },
     "execution_count": 18,
     "metadata": {},
     "output_type": "execute_result"
    }
   ],
   "source": [
    "data1"
   ]
  },
  {
   "cell_type": "markdown",
   "id": "1916e3dc",
   "metadata": {},
   "source": [
    "(2) [item id X batch_size]"
   ]
  },
  {
   "cell_type": "code",
   "execution_count": 19,
   "id": "6a01fbbe",
   "metadata": {},
   "outputs": [
    {
     "data": {
      "text/plain": [
       "tensor([2947,  530])"
      ]
     },
     "execution_count": 19,
     "metadata": {},
     "output_type": "execute_result"
    }
   ],
   "source": [
    "data2"
   ]
  },
  {
   "cell_type": "markdown",
   "id": "f7ea021e",
   "metadata": {},
   "source": [
    "(3) [ [rating] X batch_size]"
   ]
  },
  {
   "cell_type": "code",
   "execution_count": 20,
   "id": "a0f8be35",
   "metadata": {},
   "outputs": [
    {
     "data": {
      "text/plain": [
       "tensor([[2.5000],\n",
       "        [5.0000]])"
      ]
     },
     "execution_count": 20,
     "metadata": {},
     "output_type": "execute_result"
    }
   ],
   "source": [
    "data3"
   ]
  },
  {
   "cell_type": "markdown",
   "id": "e6b71fb0",
   "metadata": {},
   "source": [
    "(4) [ [implicit_1, ..., implicit_m] X batch_size]"
   ]
  },
  {
   "cell_type": "code",
   "execution_count": 21,
   "id": "2f91dede",
   "metadata": {},
   "outputs": [
    {
     "data": {
      "text/plain": [
       "tensor([[1., 1., 1.,  ..., 0., 0., 0.],\n",
       "        [1., 0., 1.,  ..., 0., 0., 0.]])"
      ]
     },
     "execution_count": 21,
     "metadata": {},
     "output_type": "execute_result"
    }
   ],
   "source": [
    "data4"
   ]
  },
  {
   "cell_type": "markdown",
   "id": "0c82f59c",
   "metadata": {},
   "source": [
    "***"
   ]
  },
  {
   "cell_type": "markdown",
   "id": "22d41b36",
   "metadata": {},
   "source": [
    "## 2) Modeling"
   ]
  },
  {
   "cell_type": "markdown",
   "id": "479249dc",
   "metadata": {},
   "source": [
    "### set config & get model"
   ]
  },
  {
   "cell_type": "code",
   "execution_count": 8,
   "id": "9031e793",
   "metadata": {},
   "outputs": [],
   "source": [
    "class OptimizerConfig:\n",
    "    method = 'SGD'\n",
    "    regulation = 1e-5\n",
    "    learning_rate = 0.01\n",
    "    learning_decay = 0.95\n",
    "\n",
    "class ModelConfig:\n",
    "    epochs = 30\n",
    "    print_step = 5\n",
    "\n",
    "class SVDppConfig:\n",
    "    evaluation = 'MSE'\n",
    "    dim_latent = 16\n",
    "\n",
    "optimizer_config = OptimizerConfig()\n",
    "svdpp_config = SVDppConfig()\n",
    "model_config = ModelConfig()"
   ]
  },
  {
   "cell_type": "code",
   "execution_count": 9,
   "id": "48dd8968",
   "metadata": {},
   "outputs": [
    {
     "name": "stdout",
     "output_type": "stream",
     "text": [
      "[BaseModel] method = SGD\n",
      "[BaseModel] regulation = 1e-05\n",
      "[BaseModel] learning_rate = 0.01\n",
      "[BaseModel] learning_rate_decay = 0.95\n"
     ]
    }
   ],
   "source": [
    "inputs = {\"mu\":train['rating'].mean(),\n",
    "          \"n_user\":num_user,\n",
    "          \"n_item\":num_item}\n",
    "\n",
    "model = SVDpp(inputs, model_config, optimizer_config, svdpp_config)"
   ]
  },
  {
   "cell_type": "markdown",
   "id": "72c47c99",
   "metadata": {},
   "source": [
    "### fit model & see loss and performance"
   ]
  },
  {
   "cell_type": "code",
   "execution_count": 10,
   "id": "3dc13258",
   "metadata": {},
   "outputs": [
    {
     "name": "stdout",
     "output_type": "stream",
     "text": [
      "\n",
      "[SVDpp]============================================== Train ===============================================\n",
      "[SVDpp]             (train: MSE)        (validation: MSE)   \n",
      "          (epoch 5) 14.1576             16.0273             \n",
      "         (epoch 10) 9.6070              11.8890             \n",
      "         (epoch 15) 7.6493              9.9837              \n",
      "         (epoch 20) 6.5915              8.9258              \n",
      "         (epoch 25) 5.9486              8.2736              \n",
      "         (epoch 30) 5.5288              7.8437              \n"
     ]
    }
   ],
   "source": [
    "train_loader = DataLoader(dataset, batch_size=dataset_config.batch)\n",
    "model.fit(train_loader=train_loader, val_data=validation)"
   ]
  },
  {
   "cell_type": "markdown",
   "id": "7bfae962",
   "metadata": {},
   "source": [
    "***"
   ]
  },
  {
   "cell_type": "markdown",
   "id": "6a63bf1e",
   "metadata": {},
   "source": [
    "## 3) Evaluation"
   ]
  },
  {
   "cell_type": "markdown",
   "id": "bd1c227b",
   "metadata": {},
   "source": [
    "### evaluate testset"
   ]
  },
  {
   "cell_type": "code",
   "execution_count": 11,
   "id": "712a856e",
   "metadata": {},
   "outputs": [
    {
     "name": "stdout",
     "output_type": "stream",
     "text": [
      "\n",
      "[SVDpp]============================================= Evaluate =============================================\n",
      "[SVDpp] (test: MSE) = 8.0816\n"
     ]
    }
   ],
   "source": [
    "model.test(train_loader=train_loader, test_data=test)"
   ]
  },
  {
   "cell_type": "markdown",
   "id": "8d97f039",
   "metadata": {},
   "source": [
    "### see plot for loss and performance"
   ]
  },
  {
   "cell_type": "code",
   "execution_count": 15,
   "id": "42bd73f2",
   "metadata": {},
   "outputs": [
    {
     "data": {
      "image/png": "[encoded data removed]",
      "text/plain": [
       "<Figure size 864x288 with 2 Axes>"
      ]
     },
     "metadata": {
      "needs_background": "light"
     },
     "output_type": "display_data"
    }
   ],
   "source": [
    "figure = model.draw_plot()\n",
    "plt.show()"
   ]
  }
 ],
 "metadata": {
  "kernelspec": {
   "display_name": "reco_sys",
   "language": "python",
   "name": "reco_sys"
  },
  "language_info": {
   "codemirror_mode": {
    "name": "ipython",
    "version": 3
   },
   "file_extension": ".py",
   "mimetype": "text/x-python",
   "name": "python",
   "nbconvert_exporter": "python",
   "pygments_lexer": "ipython3",
   "version": "3.7.13"
  }
 },
 "nbformat": 4,
 "nbformat_minor": 5
}
